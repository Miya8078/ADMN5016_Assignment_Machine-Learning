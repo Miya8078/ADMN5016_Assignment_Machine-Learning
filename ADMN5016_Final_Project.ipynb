{
 "cells": [
  {
   "cell_type": "markdown",
   "id": "5bf10910",
   "metadata": {},
   "source": [
    "# ADMN5016 Machine Learning Application"
   ]
  },
  {
   "cell_type": "markdown",
   "id": "1700f38a",
   "metadata": {},
   "source": [
    "# Cart Abandonment Prediction Model"
   ]
  },
  {
   "cell_type": "markdown",
   "id": "62cab051",
   "metadata": {},
   "source": [
    "## Import Libraries"
   ]
  },
  {
   "cell_type": "code",
   "execution_count": 2,
   "id": "b5829fdd",
   "metadata": {},
   "outputs": [],
   "source": [
    "import pickle as pkl\n",
    "import pandas as pd\n",
    "import numpy as np\n",
    "import seaborn as sns\n",
    "from imblearn.over_sampling import SMOTE\n",
    "from sklearn.model_selection import train_test_split\n",
    "from sklearn.preprocessing import StandardScaler\n",
    "from sklearn.impute import SimpleImputer\n",
    "from sklearn.metrics import confusion_matrix,accuracy_score,cohen_kappa_score\n",
    "from sklearn.ensemble import RandomForestClassifier\n",
    "from sklearn.preprocessing import MinMaxScaler\n",
    "from scipy.special import boxcox1p\n",
    "from sklearn.feature_selection import RFE\n",
    "from sklearn.linear_model import LogisticRegression\n",
    "import matplotlib.pyplot as plt\n",
    "%matplotlib inline"
   ]
  },
  {
   "cell_type": "markdown",
   "id": "f65ab335",
   "metadata": {},
   "source": [
    "### Reading the Dataset"
   ]
  },
  {
   "cell_type": "code",
   "execution_count": 3,
   "id": "dd1fef75",
   "metadata": {},
   "outputs": [],
   "source": [
    "cart_df = pd.read_csv(\"C:/Users/bista/Downloads/data_cart_abandonment.csv\")"
   ]
  },
  {
   "cell_type": "code",
   "execution_count": 7,
   "id": "fd4f91ab",
   "metadata": {},
   "outputs": [
    {
     "data": {
      "text/plain": [
       "ID                            object\n",
       "Is_Product_Details_viewed     object\n",
       "Session_Activity_Count         int64\n",
       "No_Items_Added_InCart        float64\n",
       "No_Items_Removed_FromCart      int64\n",
       "No_Cart_Viewed               float64\n",
       "No_Checkout_Confirmed          int64\n",
       "No_Checkout_Initiated          int64\n",
       "No_Cart_Items_Viewed           int64\n",
       "No_Customer_Login              int64\n",
       "No_Page_Viewed                 int64\n",
       "Customer_Segment_Type          int64\n",
       "Cart_Abandoned                object\n",
       "dtype: object"
      ]
     },
     "execution_count": 7,
     "metadata": {},
     "output_type": "execute_result"
    }
   ],
   "source": [
    "cart_df.dtypes"
   ]
  },
  {
   "cell_type": "code",
   "execution_count": 5,
   "id": "1fe13b38",
   "metadata": {},
   "outputs": [],
   "source": [
    "cart_df.Cart_Abandoned=cart_df.Cart_Abandoned.astype(str)"
   ]
  },
  {
   "cell_type": "code",
   "execution_count": 6,
   "id": "e1e6f005",
   "metadata": {},
   "outputs": [
    {
     "data": {
      "text/html": [
       "<div>\n",
       "<style scoped>\n",
       "    .dataframe tbody tr th:only-of-type {\n",
       "        vertical-align: middle;\n",
       "    }\n",
       "\n",
       "    .dataframe tbody tr th {\n",
       "        vertical-align: top;\n",
       "    }\n",
       "\n",
       "    .dataframe thead th {\n",
       "        text-align: right;\n",
       "    }\n",
       "</style>\n",
       "<table border=\"1\" class=\"dataframe\">\n",
       "  <thead>\n",
       "    <tr style=\"text-align: right;\">\n",
       "      <th></th>\n",
       "      <th>ID</th>\n",
       "      <th>Is_Product_Details_viewed</th>\n",
       "      <th>Session_Activity_Count</th>\n",
       "      <th>No_Items_Added_InCart</th>\n",
       "      <th>No_Items_Removed_FromCart</th>\n",
       "      <th>No_Cart_Viewed</th>\n",
       "      <th>No_Checkout_Confirmed</th>\n",
       "      <th>No_Checkout_Initiated</th>\n",
       "      <th>No_Cart_Items_Viewed</th>\n",
       "      <th>No_Customer_Login</th>\n",
       "      <th>No_Page_Viewed</th>\n",
       "      <th>Customer_Segment_Type</th>\n",
       "      <th>Cart_Abandoned</th>\n",
       "    </tr>\n",
       "  </thead>\n",
       "  <tbody>\n",
       "    <tr>\n",
       "      <th>0</th>\n",
       "      <td>Session_ID_0</td>\n",
       "      <td>Yes</td>\n",
       "      <td>4</td>\n",
       "      <td>1.0</td>\n",
       "      <td>0</td>\n",
       "      <td>0.0</td>\n",
       "      <td>0</td>\n",
       "      <td>0</td>\n",
       "      <td>1</td>\n",
       "      <td>0</td>\n",
       "      <td>0</td>\n",
       "      <td>0</td>\n",
       "      <td>1</td>\n",
       "    </tr>\n",
       "    <tr>\n",
       "      <th>1</th>\n",
       "      <td>Session_ID_1</td>\n",
       "      <td>No</td>\n",
       "      <td>38</td>\n",
       "      <td>0.0</td>\n",
       "      <td>0</td>\n",
       "      <td>2.0</td>\n",
       "      <td>0</td>\n",
       "      <td>0</td>\n",
       "      <td>2</td>\n",
       "      <td>0</td>\n",
       "      <td>2</td>\n",
       "      <td>0</td>\n",
       "      <td>1</td>\n",
       "    </tr>\n",
       "    <tr>\n",
       "      <th>2</th>\n",
       "      <td>Session_ID_2</td>\n",
       "      <td>No</td>\n",
       "      <td>8</td>\n",
       "      <td>5.0</td>\n",
       "      <td>0</td>\n",
       "      <td>0.0</td>\n",
       "      <td>1</td>\n",
       "      <td>1</td>\n",
       "      <td>1</td>\n",
       "      <td>0</td>\n",
       "      <td>0</td>\n",
       "      <td>1</td>\n",
       "      <td>0</td>\n",
       "    </tr>\n",
       "    <tr>\n",
       "      <th>3</th>\n",
       "      <td>Session_ID_3</td>\n",
       "      <td>No</td>\n",
       "      <td>6</td>\n",
       "      <td>0.0</td>\n",
       "      <td>0</td>\n",
       "      <td>2.0</td>\n",
       "      <td>0</td>\n",
       "      <td>0</td>\n",
       "      <td>4</td>\n",
       "      <td>0</td>\n",
       "      <td>0</td>\n",
       "      <td>0</td>\n",
       "      <td>1</td>\n",
       "    </tr>\n",
       "    <tr>\n",
       "      <th>4</th>\n",
       "      <td>Session_ID_4</td>\n",
       "      <td>Yes</td>\n",
       "      <td>31</td>\n",
       "      <td>14.0</td>\n",
       "      <td>12</td>\n",
       "      <td>1.0</td>\n",
       "      <td>0</td>\n",
       "      <td>0</td>\n",
       "      <td>4</td>\n",
       "      <td>0</td>\n",
       "      <td>0</td>\n",
       "      <td>2</td>\n",
       "      <td>1</td>\n",
       "    </tr>\n",
       "  </tbody>\n",
       "</table>\n",
       "</div>"
      ],
      "text/plain": [
       "             ID Is_Product_Details_viewed  Session_Activity_Count  \\\n",
       "0  Session_ID_0                       Yes                       4   \n",
       "1  Session_ID_1                        No                      38   \n",
       "2  Session_ID_2                        No                       8   \n",
       "3  Session_ID_3                        No                       6   \n",
       "4  Session_ID_4                       Yes                      31   \n",
       "\n",
       "   No_Items_Added_InCart  No_Items_Removed_FromCart  No_Cart_Viewed  \\\n",
       "0                    1.0                          0             0.0   \n",
       "1                    0.0                          0             2.0   \n",
       "2                    5.0                          0             0.0   \n",
       "3                    0.0                          0             2.0   \n",
       "4                   14.0                         12             1.0   \n",
       "\n",
       "   No_Checkout_Confirmed  No_Checkout_Initiated   No_Cart_Items_Viewed  \\\n",
       "0                      0                       0                     1   \n",
       "1                      0                       0                     2   \n",
       "2                      1                       1                     1   \n",
       "3                      0                       0                     4   \n",
       "4                      0                       0                     4   \n",
       "\n",
       "   No_Customer_Login  No_Page_Viewed  Customer_Segment_Type Cart_Abandoned  \n",
       "0                  0               0                      0              1  \n",
       "1                  0               2                      0              1  \n",
       "2                  0               0                      1              0  \n",
       "3                  0               0                      0              1  \n",
       "4                  0               0                      2              1  "
      ]
     },
     "execution_count": 6,
     "metadata": {},
     "output_type": "execute_result"
    }
   ],
   "source": [
    "#Initial columns and rows of the dataset\n",
    "cart_df.head()\n"
   ]
  },
  {
   "cell_type": "code",
   "execution_count": 14,
   "id": "60d104f9",
   "metadata": {},
   "outputs": [
    {
     "data": {
      "text/html": [
       "<div>\n",
       "<style scoped>\n",
       "    .dataframe tbody tr th:only-of-type {\n",
       "        vertical-align: middle;\n",
       "    }\n",
       "\n",
       "    .dataframe tbody tr th {\n",
       "        vertical-align: top;\n",
       "    }\n",
       "\n",
       "    .dataframe thead th {\n",
       "        text-align: right;\n",
       "    }\n",
       "</style>\n",
       "<table border=\"1\" class=\"dataframe\">\n",
       "  <thead>\n",
       "    <tr style=\"text-align: right;\">\n",
       "      <th></th>\n",
       "      <th>ID</th>\n",
       "      <th>Is_Product_Details_viewed</th>\n",
       "      <th>Session_Activity_Count</th>\n",
       "      <th>No_Items_Added_InCart</th>\n",
       "      <th>No_Items_Removed_FromCart</th>\n",
       "      <th>No_Cart_Viewed</th>\n",
       "      <th>No_Checkout_Confirmed</th>\n",
       "      <th>No_Checkout_Initiated</th>\n",
       "      <th>No_Cart_Items_Viewed</th>\n",
       "      <th>No_Customer_Login</th>\n",
       "      <th>No_Page_Viewed</th>\n",
       "      <th>Customer_Segment_Type</th>\n",
       "      <th>Cart_Abandoned</th>\n",
       "    </tr>\n",
       "  </thead>\n",
       "  <tbody>\n",
       "    <tr>\n",
       "      <th>4279</th>\n",
       "      <td>Session_ID_4279</td>\n",
       "      <td>Yes</td>\n",
       "      <td>23</td>\n",
       "      <td>5.0</td>\n",
       "      <td>6</td>\n",
       "      <td>2.0</td>\n",
       "      <td>0</td>\n",
       "      <td>0</td>\n",
       "      <td>3</td>\n",
       "      <td>0</td>\n",
       "      <td>7</td>\n",
       "      <td>2</td>\n",
       "      <td>1</td>\n",
       "    </tr>\n",
       "    <tr>\n",
       "      <th>4280</th>\n",
       "      <td>Session_ID_4280</td>\n",
       "      <td>No</td>\n",
       "      <td>7</td>\n",
       "      <td>2.0</td>\n",
       "      <td>0</td>\n",
       "      <td>3.0</td>\n",
       "      <td>0</td>\n",
       "      <td>0</td>\n",
       "      <td>1</td>\n",
       "      <td>0</td>\n",
       "      <td>0</td>\n",
       "      <td>0</td>\n",
       "      <td>1</td>\n",
       "    </tr>\n",
       "    <tr>\n",
       "      <th>4281</th>\n",
       "      <td>Session_ID_4281</td>\n",
       "      <td>No</td>\n",
       "      <td>4</td>\n",
       "      <td>1.0</td>\n",
       "      <td>0</td>\n",
       "      <td>1.0</td>\n",
       "      <td>0</td>\n",
       "      <td>1</td>\n",
       "      <td>1</td>\n",
       "      <td>0</td>\n",
       "      <td>0</td>\n",
       "      <td>0</td>\n",
       "      <td>1</td>\n",
       "    </tr>\n",
       "    <tr>\n",
       "      <th>4282</th>\n",
       "      <td>Session_ID_4282</td>\n",
       "      <td>No</td>\n",
       "      <td>8</td>\n",
       "      <td>3.0</td>\n",
       "      <td>0</td>\n",
       "      <td>1.0</td>\n",
       "      <td>0</td>\n",
       "      <td>1</td>\n",
       "      <td>1</td>\n",
       "      <td>0</td>\n",
       "      <td>2</td>\n",
       "      <td>1</td>\n",
       "      <td>1</td>\n",
       "    </tr>\n",
       "    <tr>\n",
       "      <th>4283</th>\n",
       "      <td>Session_ID_4283</td>\n",
       "      <td>No</td>\n",
       "      <td>31</td>\n",
       "      <td>4.0</td>\n",
       "      <td>0</td>\n",
       "      <td>3.0</td>\n",
       "      <td>0</td>\n",
       "      <td>1</td>\n",
       "      <td>7</td>\n",
       "      <td>0</td>\n",
       "      <td>1</td>\n",
       "      <td>1</td>\n",
       "      <td>1</td>\n",
       "    </tr>\n",
       "  </tbody>\n",
       "</table>\n",
       "</div>"
      ],
      "text/plain": [
       "                   ID Is_Product_Details_viewed  Session_Activity_Count  \\\n",
       "4279  Session_ID_4279                       Yes                      23   \n",
       "4280  Session_ID_4280                        No                       7   \n",
       "4281  Session_ID_4281                        No                       4   \n",
       "4282  Session_ID_4282                        No                       8   \n",
       "4283  Session_ID_4283                        No                      31   \n",
       "\n",
       "      No_Items_Added_InCart  No_Items_Removed_FromCart  No_Cart_Viewed  \\\n",
       "4279                    5.0                          6             2.0   \n",
       "4280                    2.0                          0             3.0   \n",
       "4281                    1.0                          0             1.0   \n",
       "4282                    3.0                          0             1.0   \n",
       "4283                    4.0                          0             3.0   \n",
       "\n",
       "      No_Checkout_Confirmed  No_Checkout_Initiated   No_Cart_Items_Viewed  \\\n",
       "4279                      0                       0                     3   \n",
       "4280                      0                       0                     1   \n",
       "4281                      0                       1                     1   \n",
       "4282                      0                       1                     1   \n",
       "4283                      0                       1                     7   \n",
       "\n",
       "      No_Customer_Login  No_Page_Viewed  Customer_Segment_Type  Cart_Abandoned  \n",
       "4279                  0               7                      2               1  \n",
       "4280                  0               0                      0               1  \n",
       "4281                  0               0                      0               1  \n",
       "4282                  0               2                      1               1  \n",
       "4283                  0               1                      1               1  "
      ]
     },
     "execution_count": 14,
     "metadata": {},
     "output_type": "execute_result"
    }
   ],
   "source": [
    "#Final columns and rows of the dataset\n",
    "cart_df.tail()"
   ]
  },
  {
   "cell_type": "code",
   "execution_count": 8,
   "id": "b20e95d8",
   "metadata": {},
   "outputs": [
    {
     "data": {
      "text/html": [
       "<div>\n",
       "<style scoped>\n",
       "    .dataframe tbody tr th:only-of-type {\n",
       "        vertical-align: middle;\n",
       "    }\n",
       "\n",
       "    .dataframe tbody tr th {\n",
       "        vertical-align: top;\n",
       "    }\n",
       "\n",
       "    .dataframe thead th {\n",
       "        text-align: right;\n",
       "    }\n",
       "</style>\n",
       "<table border=\"1\" class=\"dataframe\">\n",
       "  <thead>\n",
       "    <tr style=\"text-align: right;\">\n",
       "      <th></th>\n",
       "      <th>Session_Activity_Count</th>\n",
       "      <th>No_Items_Added_InCart</th>\n",
       "      <th>No_Items_Removed_FromCart</th>\n",
       "      <th>No_Cart_Viewed</th>\n",
       "      <th>No_Checkout_Confirmed</th>\n",
       "      <th>No_Checkout_Initiated</th>\n",
       "      <th>No_Cart_Items_Viewed</th>\n",
       "      <th>No_Customer_Login</th>\n",
       "      <th>No_Page_Viewed</th>\n",
       "      <th>Customer_Segment_Type</th>\n",
       "    </tr>\n",
       "  </thead>\n",
       "  <tbody>\n",
       "    <tr>\n",
       "      <th>count</th>\n",
       "      <td>4284.000000</td>\n",
       "      <td>4275.000000</td>\n",
       "      <td>4284.000000</td>\n",
       "      <td>4275.000000</td>\n",
       "      <td>4284.000000</td>\n",
       "      <td>4284.000000</td>\n",
       "      <td>4284.000000</td>\n",
       "      <td>4284.000000</td>\n",
       "      <td>4284.000000</td>\n",
       "      <td>4284.000000</td>\n",
       "    </tr>\n",
       "    <tr>\n",
       "      <th>mean</th>\n",
       "      <td>13.878151</td>\n",
       "      <td>3.488421</td>\n",
       "      <td>0.867180</td>\n",
       "      <td>1.444211</td>\n",
       "      <td>0.187208</td>\n",
       "      <td>0.980159</td>\n",
       "      <td>2.295985</td>\n",
       "      <td>0.169234</td>\n",
       "      <td>2.348506</td>\n",
       "      <td>0.563259</td>\n",
       "    </tr>\n",
       "    <tr>\n",
       "      <th>std</th>\n",
       "      <td>15.934084</td>\n",
       "      <td>6.789401</td>\n",
       "      <td>3.070022</td>\n",
       "      <td>2.082496</td>\n",
       "      <td>0.517691</td>\n",
       "      <td>1.140525</td>\n",
       "      <td>6.052666</td>\n",
       "      <td>0.400299</td>\n",
       "      <td>2.868862</td>\n",
       "      <td>0.703856</td>\n",
       "    </tr>\n",
       "    <tr>\n",
       "      <th>min</th>\n",
       "      <td>0.000000</td>\n",
       "      <td>0.000000</td>\n",
       "      <td>0.000000</td>\n",
       "      <td>0.000000</td>\n",
       "      <td>0.000000</td>\n",
       "      <td>0.000000</td>\n",
       "      <td>0.000000</td>\n",
       "      <td>0.000000</td>\n",
       "      <td>0.000000</td>\n",
       "      <td>0.000000</td>\n",
       "    </tr>\n",
       "    <tr>\n",
       "      <th>25%</th>\n",
       "      <td>6.000000</td>\n",
       "      <td>1.000000</td>\n",
       "      <td>0.000000</td>\n",
       "      <td>0.000000</td>\n",
       "      <td>0.000000</td>\n",
       "      <td>0.000000</td>\n",
       "      <td>1.000000</td>\n",
       "      <td>0.000000</td>\n",
       "      <td>1.000000</td>\n",
       "      <td>0.000000</td>\n",
       "    </tr>\n",
       "    <tr>\n",
       "      <th>50%</th>\n",
       "      <td>10.000000</td>\n",
       "      <td>2.000000</td>\n",
       "      <td>0.000000</td>\n",
       "      <td>1.000000</td>\n",
       "      <td>0.000000</td>\n",
       "      <td>1.000000</td>\n",
       "      <td>1.000000</td>\n",
       "      <td>0.000000</td>\n",
       "      <td>2.000000</td>\n",
       "      <td>0.000000</td>\n",
       "    </tr>\n",
       "    <tr>\n",
       "      <th>75%</th>\n",
       "      <td>17.000000</td>\n",
       "      <td>5.000000</td>\n",
       "      <td>0.000000</td>\n",
       "      <td>2.000000</td>\n",
       "      <td>0.000000</td>\n",
       "      <td>1.000000</td>\n",
       "      <td>2.000000</td>\n",
       "      <td>0.000000</td>\n",
       "      <td>3.000000</td>\n",
       "      <td>1.000000</td>\n",
       "    </tr>\n",
       "    <tr>\n",
       "      <th>max</th>\n",
       "      <td>436.000000</td>\n",
       "      <td>225.000000</td>\n",
       "      <td>50.000000</td>\n",
       "      <td>34.000000</td>\n",
       "      <td>11.000000</td>\n",
       "      <td>14.000000</td>\n",
       "      <td>256.000000</td>\n",
       "      <td>3.000000</td>\n",
       "      <td>35.000000</td>\n",
       "      <td>2.000000</td>\n",
       "    </tr>\n",
       "  </tbody>\n",
       "</table>\n",
       "</div>"
      ],
      "text/plain": [
       "       Session_Activity_Count  No_Items_Added_InCart  \\\n",
       "count             4284.000000            4275.000000   \n",
       "mean                13.878151               3.488421   \n",
       "std                 15.934084               6.789401   \n",
       "min                  0.000000               0.000000   \n",
       "25%                  6.000000               1.000000   \n",
       "50%                 10.000000               2.000000   \n",
       "75%                 17.000000               5.000000   \n",
       "max                436.000000             225.000000   \n",
       "\n",
       "       No_Items_Removed_FromCart  No_Cart_Viewed  No_Checkout_Confirmed  \\\n",
       "count                4284.000000     4275.000000            4284.000000   \n",
       "mean                    0.867180        1.444211               0.187208   \n",
       "std                     3.070022        2.082496               0.517691   \n",
       "min                     0.000000        0.000000               0.000000   \n",
       "25%                     0.000000        0.000000               0.000000   \n",
       "50%                     0.000000        1.000000               0.000000   \n",
       "75%                     0.000000        2.000000               0.000000   \n",
       "max                    50.000000       34.000000              11.000000   \n",
       "\n",
       "       No_Checkout_Initiated   No_Cart_Items_Viewed  No_Customer_Login  \\\n",
       "count             4284.000000           4284.000000        4284.000000   \n",
       "mean                 0.980159              2.295985           0.169234   \n",
       "std                  1.140525              6.052666           0.400299   \n",
       "min                  0.000000              0.000000           0.000000   \n",
       "25%                  0.000000              1.000000           0.000000   \n",
       "50%                  1.000000              1.000000           0.000000   \n",
       "75%                  1.000000              2.000000           0.000000   \n",
       "max                 14.000000            256.000000           3.000000   \n",
       "\n",
       "       No_Page_Viewed  Customer_Segment_Type  \n",
       "count     4284.000000            4284.000000  \n",
       "mean         2.348506               0.563259  \n",
       "std          2.868862               0.703856  \n",
       "min          0.000000               0.000000  \n",
       "25%          1.000000               0.000000  \n",
       "50%          2.000000               0.000000  \n",
       "75%          3.000000               1.000000  \n",
       "max         35.000000               2.000000  "
      ]
     },
     "execution_count": 8,
     "metadata": {},
     "output_type": "execute_result"
    }
   ],
   "source": [
    "#Description of the data in the dataframe \n",
    "cart_df.describe()"
   ]
  },
  {
   "cell_type": "markdown",
   "id": "d52be049",
   "metadata": {},
   "source": [
    "### Countplot of Cart Abandoned"
   ]
  },
  {
   "cell_type": "code",
   "execution_count": 9,
   "id": "906ea27d",
   "metadata": {},
   "outputs": [
    {
     "name": "stderr",
     "output_type": "stream",
     "text": [
      "C:\\Users\\bista\\anaconda3\\lib\\site-packages\\seaborn\\_decorators.py:36: FutureWarning: Pass the following variable as a keyword arg: x. From version 0.12, the only valid positional argument will be `data`, and passing other arguments without an explicit keyword will result in an error or misinterpretation.\n",
      "  warnings.warn(\n"
     ]
    },
    {
     "data": {
      "text/plain": [
       "<AxesSubplot:xlabel='Cart_Abandoned', ylabel='count'>"
      ]
     },
     "execution_count": 9,
     "metadata": {},
     "output_type": "execute_result"
    },
    {
     "data": {
      "image/png": "[encoded data removed]",
      "text/plain": [
       "<Figure size 432x288 with 1 Axes>"
      ]
     },
     "metadata": {
      "needs_background": "light"
     },
     "output_type": "display_data"
    }
   ],
   "source": [
    "sns.countplot(cart_df.Cart_Abandoned)"
   ]
  },
  {
   "cell_type": "markdown",
   "id": "64a9df9e",
   "metadata": {},
   "source": [
    "## Exploratory Data Analysis\n"
   ]
  },
  {
   "cell_type": "markdown",
   "id": "84312ed9",
   "metadata": {},
   "source": [
    "### Univariate Analysis"
   ]
  },
  {
   "cell_type": "code",
   "execution_count": 10,
   "id": "f0cf9583",
   "metadata": {},
   "outputs": [],
   "source": [
    "num = cart_df.select_dtypes(include=[\"float64\",\"int64\"])\n",
    "cat = cart_df.select_dtypes(include=[\"object\",\"category\"]).drop([\"Is_Product_Details_viewed\",\"ID\"],axis=1)"
   ]
  },
  {
   "cell_type": "code",
   "execution_count": 12,
   "id": "ffd3d38a",
   "metadata": {},
   "outputs": [
    {
     "data": {
      "image/png": "[encoded data removed]",
      "text/plain": [
       "<Figure size 1440x432 with 10 Axes>"
      ]
     },
     "metadata": {
      "needs_background": "light"
     },
     "output_type": "display_data"
    }
   ],
   "source": [
    "num.hist(bins=15, figsize=(20, 6), layout=(2, 5));"
   ]
  },
  {
   "cell_type": "code",
   "execution_count": 11,
   "id": "2d3c5352",
   "metadata": {},
   "outputs": [
    {
     "data": {
      "text/html": [
       "<div>\n",
       "<style scoped>\n",
       "    .dataframe tbody tr th:only-of-type {\n",
       "        vertical-align: middle;\n",
       "    }\n",
       "\n",
       "    .dataframe tbody tr th {\n",
       "        vertical-align: top;\n",
       "    }\n",
       "\n",
       "    .dataframe thead th {\n",
       "        text-align: right;\n",
       "    }\n",
       "</style>\n",
       "<table border=\"1\" class=\"dataframe\">\n",
       "  <thead>\n",
       "    <tr style=\"text-align: right;\">\n",
       "      <th></th>\n",
       "      <th>Cart_Abandoned</th>\n",
       "    </tr>\n",
       "  </thead>\n",
       "  <tbody>\n",
       "    <tr>\n",
       "      <th>0</th>\n",
       "      <td>1</td>\n",
       "    </tr>\n",
       "    <tr>\n",
       "      <th>1</th>\n",
       "      <td>1</td>\n",
       "    </tr>\n",
       "    <tr>\n",
       "      <th>2</th>\n",
       "      <td>0</td>\n",
       "    </tr>\n",
       "    <tr>\n",
       "      <th>3</th>\n",
       "      <td>1</td>\n",
       "    </tr>\n",
       "    <tr>\n",
       "      <th>4</th>\n",
       "      <td>1</td>\n",
       "    </tr>\n",
       "    <tr>\n",
       "      <th>...</th>\n",
       "      <td>...</td>\n",
       "    </tr>\n",
       "    <tr>\n",
       "      <th>4279</th>\n",
       "      <td>1</td>\n",
       "    </tr>\n",
       "    <tr>\n",
       "      <th>4280</th>\n",
       "      <td>1</td>\n",
       "    </tr>\n",
       "    <tr>\n",
       "      <th>4281</th>\n",
       "      <td>1</td>\n",
       "    </tr>\n",
       "    <tr>\n",
       "      <th>4282</th>\n",
       "      <td>1</td>\n",
       "    </tr>\n",
       "    <tr>\n",
       "      <th>4283</th>\n",
       "      <td>1</td>\n",
       "    </tr>\n",
       "  </tbody>\n",
       "</table>\n",
       "<p>4284 rows × 1 columns</p>\n",
       "</div>"
      ],
      "text/plain": [
       "     Cart_Abandoned\n",
       "0                 1\n",
       "1                 1\n",
       "2                 0\n",
       "3                 1\n",
       "4                 1\n",
       "...             ...\n",
       "4279              1\n",
       "4280              1\n",
       "4281              1\n",
       "4282              1\n",
       "4283              1\n",
       "\n",
       "[4284 rows x 1 columns]"
      ]
     },
     "execution_count": 11,
     "metadata": {},
     "output_type": "execute_result"
    }
   ],
   "source": [
    "cat"
   ]
  },
  {
   "cell_type": "markdown",
   "id": "2c3a5d81",
   "metadata": {},
   "source": [
    "### Bivariate Analysis"
   ]
  },
  {
   "cell_type": "code",
   "execution_count": 13,
   "id": "3970cfa8",
   "metadata": {},
   "outputs": [
    {
     "data": {
      "image/png": "[encoded data removed]",
      "text/plain": [
       "<Figure size 1440x720 with 10 Axes>"
      ]
     },
     "metadata": {
      "needs_background": "light"
     },
     "output_type": "display_data"
    }
   ],
   "source": [
    "fig, ax = plt.subplots(2, 5, figsize=(20, 10))\n",
    "for var, subplot in zip(num.columns.tolist(), ax.flatten()):\n",
    "    sns.boxplot(x=cat[\"Cart_Abandoned\"], y=num[var], ax=subplot)"
   ]
  },
  {
   "cell_type": "code",
   "execution_count": 14,
   "id": "a8bbf8e0",
   "metadata": {},
   "outputs": [
    {
     "data": {
      "text/plain": [
       "<AxesSubplot:xlabel='Is_Product_Details_viewed', ylabel='count'>"
      ]
     },
     "execution_count": 14,
     "metadata": {},
     "output_type": "execute_result"
    },
    {
     "data": {
      "image/png": "[encoded data removed]",
      "text/plain": [
       "<Figure size 432x288 with 1 Axes>"
      ]
     },
     "metadata": {
      "needs_background": "light"
     },
     "output_type": "display_data"
    }
   ],
   "source": [
    "sns.countplot(x=cart_df.Is_Product_Details_viewed,hue=cart_df.Cart_Abandoned)"
   ]
  },
  {
   "cell_type": "markdown",
   "id": "88679428",
   "metadata": {},
   "source": [
    "### Correlation plot of Independent attributes"
   ]
  },
  {
   "cell_type": "code",
   "execution_count": 15,
   "id": "1223ccb9",
   "metadata": {},
   "outputs": [
    {
     "data": {
      "text/plain": [
       "<AxesSubplot:>"
      ]
     },
     "execution_count": 15,
     "metadata": {},
     "output_type": "execute_result"
    },
    {
     "data": {
      "image/png": "[encoded data removed]",
      "text/plain": [
       "<Figure size 432x288 with 2 Axes>"
      ]
     },
     "metadata": {
      "needs_background": "light"
     },
     "output_type": "display_data"
    }
   ],
   "source": [
    "corr = num.corr()\n",
    "sns.heatmap(corr)"
   ]
  },
  {
   "cell_type": "markdown",
   "id": "753d09b2",
   "metadata": {},
   "source": [
    "# Data Pre-Processing"
   ]
  },
  {
   "cell_type": "code",
   "execution_count": 18,
   "id": "48b31d98",
   "metadata": {},
   "outputs": [
    {
     "data": {
      "text/plain": [
       "ID                           0\n",
       "Is_Product_Details_viewed    0\n",
       "Session_Activity_Count       0\n",
       "No_Items_Added_InCart        0\n",
       "No_Items_Removed_FromCart    0\n",
       "No_Cart_Viewed               0\n",
       "No_Checkout_Confirmed        0\n",
       "No_Checkout_Initiated        0\n",
       "No_Cart_Items_Viewed         0\n",
       "No_Customer_Login            0\n",
       "No_Page_Viewed               0\n",
       "Customer_Segment_Type        0\n",
       "Cart_Abandoned               0\n",
       "dtype: int64"
      ]
     },
     "execution_count": 18,
     "metadata": {},
     "output_type": "execute_result"
    }
   ],
   "source": [
    "cart_df.isna().sum()"
   ]
  },
  {
   "cell_type": "markdown",
   "id": "a1873648",
   "metadata": {},
   "source": [
    "### Imputing Missing Values with Mean"
   ]
  },
  {
   "cell_type": "code",
   "execution_count": 17,
   "id": "01481081",
   "metadata": {},
   "outputs": [],
   "source": [
    "cart_df['No_Items_Added_InCart'] = cart_df['No_Items_Added_InCart'].fillna(cart_df['No_Items_Added_InCart'].mean())\n",
    "cart_df['No_Cart_Viewed'] = cart_df['No_Cart_Viewed'].fillna(cart_df['No_Cart_Viewed'].mean())"
   ]
  },
  {
   "cell_type": "markdown",
   "id": "2fda8377",
   "metadata": {},
   "source": [
    "### Scaling Of Data: By MinMax Scaling"
   ]
  },
  {
   "cell_type": "code",
   "execution_count": 19,
   "id": "45463ac1",
   "metadata": {
    "scrolled": false
   },
   "outputs": [
    {
     "data": {
      "image/png": "[encoded data removed]",
      "text/plain": [
       "<Figure size 1440x432 with 10 Axes>"
      ]
     },
     "metadata": {
      "needs_background": "light"
     },
     "output_type": "display_data"
    }
   ],
   "source": [
    "num=cart_df.select_dtypes(include=[\"int64\"])\n",
    "cat=cart_df.select_dtypes(include=[\"object\",\"category\"]).drop([\"Is_Product_Details_viewed\",\"ID\"],axis=1)\n",
    "min_max_scaler = MinMaxScaler()\n",
    "x_scaled= min_max_scaler.fit_transform(num)\n",
    "x_scaled\n",
    "df_scaled = pd.DataFrame(x_scaled,columns=num.columns)\n",
    "df_scaled.head(3)\n",
    "df_scaled.hist(bins=15, figsize=(20, 6), layout=(2, 5));"
   ]
  },
  {
   "cell_type": "code",
   "execution_count": 20,
   "id": "0ad7ffb6",
   "metadata": {},
   "outputs": [
    {
     "data": {
      "text/html": [
       "<div>\n",
       "<style scoped>\n",
       "    .dataframe tbody tr th:only-of-type {\n",
       "        vertical-align: middle;\n",
       "    }\n",
       "\n",
       "    .dataframe tbody tr th {\n",
       "        vertical-align: top;\n",
       "    }\n",
       "\n",
       "    .dataframe thead th {\n",
       "        text-align: right;\n",
       "    }\n",
       "</style>\n",
       "<table border=\"1\" class=\"dataframe\">\n",
       "  <thead>\n",
       "    <tr style=\"text-align: right;\">\n",
       "      <th></th>\n",
       "      <th>ID</th>\n",
       "      <th>Session_Activity_Count</th>\n",
       "      <th>No_Items_Removed_FromCart</th>\n",
       "      <th>No_Checkout_Confirmed</th>\n",
       "      <th>No_Checkout_Initiated</th>\n",
       "      <th>No_Cart_Items_Viewed</th>\n",
       "      <th>No_Customer_Login</th>\n",
       "      <th>No_Page_Viewed</th>\n",
       "      <th>Customer_Segment_Type</th>\n",
       "      <th>Cart_Abandoned</th>\n",
       "    </tr>\n",
       "  </thead>\n",
       "  <tbody>\n",
       "    <tr>\n",
       "      <th>0</th>\n",
       "      <td>Session_ID_0</td>\n",
       "      <td>0.009174</td>\n",
       "      <td>0.0</td>\n",
       "      <td>0.000000</td>\n",
       "      <td>0.000000</td>\n",
       "      <td>0.003906</td>\n",
       "      <td>0.0</td>\n",
       "      <td>0.000000</td>\n",
       "      <td>0.0</td>\n",
       "      <td>1</td>\n",
       "    </tr>\n",
       "    <tr>\n",
       "      <th>1</th>\n",
       "      <td>Session_ID_1</td>\n",
       "      <td>0.087156</td>\n",
       "      <td>0.0</td>\n",
       "      <td>0.000000</td>\n",
       "      <td>0.000000</td>\n",
       "      <td>0.007812</td>\n",
       "      <td>0.0</td>\n",
       "      <td>0.057143</td>\n",
       "      <td>0.0</td>\n",
       "      <td>1</td>\n",
       "    </tr>\n",
       "    <tr>\n",
       "      <th>2</th>\n",
       "      <td>Session_ID_2</td>\n",
       "      <td>0.018349</td>\n",
       "      <td>0.0</td>\n",
       "      <td>0.090909</td>\n",
       "      <td>0.071429</td>\n",
       "      <td>0.003906</td>\n",
       "      <td>0.0</td>\n",
       "      <td>0.000000</td>\n",
       "      <td>0.5</td>\n",
       "      <td>0</td>\n",
       "    </tr>\n",
       "  </tbody>\n",
       "</table>\n",
       "</div>"
      ],
      "text/plain": [
       "             ID  Session_Activity_Count  No_Items_Removed_FromCart  \\\n",
       "0  Session_ID_0                0.009174                        0.0   \n",
       "1  Session_ID_1                0.087156                        0.0   \n",
       "2  Session_ID_2                0.018349                        0.0   \n",
       "\n",
       "   No_Checkout_Confirmed  No_Checkout_Initiated   No_Cart_Items_Viewed  \\\n",
       "0               0.000000                0.000000              0.003906   \n",
       "1               0.000000                0.000000              0.007812   \n",
       "2               0.090909                0.071429              0.003906   \n",
       "\n",
       "   No_Customer_Login  No_Page_Viewed  Customer_Segment_Type Cart_Abandoned  \n",
       "0                0.0        0.000000                    0.0              1  \n",
       "1                0.0        0.057143                    0.0              1  \n",
       "2                0.0        0.000000                    0.5              0  "
      ]
     },
     "execution_count": 20,
     "metadata": {},
     "output_type": "execute_result"
    }
   ],
   "source": [
    "df_scaled[\"ID\"]=cart_df.ID\n",
    "df_scaled.set_index('ID',inplace=True)\n",
    "df_scaled.reset_index(inplace=True)\n",
    "df_final=df_scaled.join(cat)\n",
    "df_final.head(3)"
   ]
  },
  {
   "cell_type": "markdown",
   "id": "405f1e75",
   "metadata": {},
   "source": [
    "## Feature Selection"
   ]
  },
  {
   "cell_type": "code",
   "execution_count": 21,
   "id": "ed88a4a4",
   "metadata": {},
   "outputs": [
    {
     "data": {
      "text/html": [
       "<style>#sk-container-id-1 {color: black;background-color: white;}#sk-container-id-1 pre{padding: 0;}#sk-container-id-1 div.sk-toggleable {background-color: white;}#sk-container-id-1 label.sk-toggleable__label {cursor: pointer;display: block;width: 100%;margin-bottom: 0;padding: 0.3em;box-sizing: border-box;text-align: center;}#sk-container-id-1 label.sk-toggleable__label-arrow:before {content: \"▸\";float: left;margin-right: 0.25em;color: #696969;}#sk-container-id-1 label.sk-toggleable__label-arrow:hover:before {color: black;}#sk-container-id-1 div.sk-estimator:hover label.sk-toggleable__label-arrow:before {color: black;}#sk-container-id-1 div.sk-toggleable__content {max-height: 0;max-width: 0;overflow: hidden;text-align: left;background-color: #f0f8ff;}#sk-container-id-1 div.sk-toggleable__content pre {margin: 0.2em;color: black;border-radius: 0.25em;background-color: #f0f8ff;}#sk-container-id-1 input.sk-toggleable__control:checked~div.sk-toggleable__content {max-height: 200px;max-width: 100%;overflow: auto;}#sk-container-id-1 input.sk-toggleable__control:checked~label.sk-toggleable__label-arrow:before {content: \"▾\";}#sk-container-id-1 div.sk-estimator input.sk-toggleable__control:checked~label.sk-toggleable__label {background-color: #d4ebff;}#sk-container-id-1 div.sk-label input.sk-toggleable__control:checked~label.sk-toggleable__label {background-color: #d4ebff;}#sk-container-id-1 input.sk-hidden--visually {border: 0;clip: rect(1px 1px 1px 1px);clip: rect(1px, 1px, 1px, 1px);height: 1px;margin: -1px;overflow: hidden;padding: 0;position: absolute;width: 1px;}#sk-container-id-1 div.sk-estimator {font-family: monospace;background-color: #f0f8ff;border: 1px dotted black;border-radius: 0.25em;box-sizing: border-box;margin-bottom: 0.5em;}#sk-container-id-1 div.sk-estimator:hover {background-color: #d4ebff;}#sk-container-id-1 div.sk-parallel-item::after {content: \"\";width: 100%;border-bottom: 1px solid gray;flex-grow: 1;}#sk-container-id-1 div.sk-label:hover label.sk-toggleable__label {background-color: #d4ebff;}#sk-container-id-1 div.sk-serial::before {content: \"\";position: absolute;border-left: 1px solid gray;box-sizing: border-box;top: 0;bottom: 0;left: 50%;z-index: 0;}#sk-container-id-1 div.sk-serial {display: flex;flex-direction: column;align-items: center;background-color: white;padding-right: 0.2em;padding-left: 0.2em;position: relative;}#sk-container-id-1 div.sk-item {position: relative;z-index: 1;}#sk-container-id-1 div.sk-parallel {display: flex;align-items: stretch;justify-content: center;background-color: white;position: relative;}#sk-container-id-1 div.sk-item::before, #sk-container-id-1 div.sk-parallel-item::before {content: \"\";position: absolute;border-left: 1px solid gray;box-sizing: border-box;top: 0;bottom: 0;left: 50%;z-index: -1;}#sk-container-id-1 div.sk-parallel-item {display: flex;flex-direction: column;z-index: 1;position: relative;background-color: white;}#sk-container-id-1 div.sk-parallel-item:first-child::after {align-self: flex-end;width: 50%;}#sk-container-id-1 div.sk-parallel-item:last-child::after {align-self: flex-start;width: 50%;}#sk-container-id-1 div.sk-parallel-item:only-child::after {width: 0;}#sk-container-id-1 div.sk-dashed-wrapped {border: 1px dashed gray;margin: 0 0.4em 0.5em 0.4em;box-sizing: border-box;padding-bottom: 0.4em;background-color: white;}#sk-container-id-1 div.sk-label label {font-family: monospace;font-weight: bold;display: inline-block;line-height: 1.2em;}#sk-container-id-1 div.sk-label-container {text-align: center;}#sk-container-id-1 div.sk-container {/* jupyter's `normalize.less` sets `[hidden] { display: none; }` but bootstrap.min.css set `[hidden] { display: none !important; }` so we also need the `!important` here to be able to override the default hidden behavior on the sphinx rendered scikit-learn.org. See: https://github.com/scikit-learn/scikit-learn/issues/21755 */display: inline-block !important;position: relative;}#sk-container-id-1 div.sk-text-repr-fallback {display: none;}</style><div id=\"sk-container-id-1\" class=\"sk-top-container\"><div class=\"sk-text-repr-fallback\"><pre>LogisticRegression()</pre><b>In a Jupyter environment, please rerun this cell to show the HTML representation or trust the notebook. <br />On GitHub, the HTML representation is unable to render, please try loading this page with nbviewer.org.</b></div><div class=\"sk-container\" hidden><div class=\"sk-item\"><div class=\"sk-estimator sk-toggleable\"><input class=\"sk-toggleable__control sk-hidden--visually\" id=\"sk-estimator-id-1\" type=\"checkbox\" checked><label for=\"sk-estimator-id-1\" class=\"sk-toggleable__label sk-toggleable__label-arrow\">LogisticRegression</label><div class=\"sk-toggleable__content\"><pre>LogisticRegression()</pre></div></div></div></div></div>"
      ],
      "text/plain": [
       "LogisticRegression()"
      ]
     },
     "execution_count": 21,
     "metadata": {},
     "output_type": "execute_result"
    }
   ],
   "source": [
    "X=df_final.iloc[:,1:12]\n",
    "X.shape\n",
    "y= df_final[\"Cart_Abandoned\"]\n",
    "y.name\n",
    "lr = LogisticRegression()\n",
    "lr.fit(X,y)"
   ]
  },
  {
   "cell_type": "code",
   "execution_count": 22,
   "id": "8d4e46f6",
   "metadata": {},
   "outputs": [
    {
     "name": "stdout",
     "output_type": "stream",
     "text": [
      "Fitting estimator with 9 features.\n",
      "Fitting estimator with 8 features.\n",
      "Num Features: 7\n",
      "Selected Features: [ True False  True  True False  True  True  True  True]\n",
      "Feature Ranking: [1 3 1 1 2 1 1 1 1]\n"
     ]
    }
   ],
   "source": [
    "#stop the search when only the last feature is left\n",
    "rfe = RFE(lr, n_features_to_select=7, verbose = 3 )\n",
    "fit=rfe.fit(X,y)\n",
    "print(\"Num Features: %d\"% fit.n_features_) \n",
    "print(\"Selected Features: %s\"% fit.support_) \n",
    "print(\"Feature Ranking: %s\"% fit.ranking_)"
   ]
  },
  {
   "cell_type": "code",
   "execution_count": 23,
   "id": "3a8fcf36",
   "metadata": {},
   "outputs": [
    {
     "data": {
      "text/plain": [
       "Index(['Session_Activity_Count', 'No_Items_Removed_FromCart',\n",
       "       'No_Checkout_Confirmed', 'No_Checkout_Initiated ',\n",
       "       'No_Cart_Items_Viewed', 'No_Customer_Login', 'No_Page_Viewed',\n",
       "       'Customer_Segment_Type', 'Cart_Abandoned'],\n",
       "      dtype='object')"
      ]
     },
     "execution_count": 23,
     "metadata": {},
     "output_type": "execute_result"
    }
   ],
   "source": [
    "l = [i for i,x in enumerate(list(fit.support_)) if x == True]\n",
    "X.columns"
   ]
  },
  {
   "cell_type": "code",
   "execution_count": 24,
   "id": "89ef44cc",
   "metadata": {},
   "outputs": [
    {
     "data": {
      "text/plain": [
       "['Session_Activity_Count',\n",
       " 'No_Checkout_Confirmed',\n",
       " 'No_Checkout_Initiated ',\n",
       " 'No_Customer_Login',\n",
       " 'No_Page_Viewed',\n",
       " 'Customer_Segment_Type',\n",
       " 'Cart_Abandoned']"
      ]
     },
     "execution_count": 24,
     "metadata": {},
     "output_type": "execute_result"
    }
   ],
   "source": [
    "feature_selected = [X[X.columns[l[i]]].name for i,x in enumerate(l)]\n",
    "feature_selected"
   ]
  },
  {
   "cell_type": "code",
   "execution_count": 25,
   "id": "cc91b1fb",
   "metadata": {},
   "outputs": [
    {
     "data": {
      "text/plain": [
       "{'Session_Activity_Count': 0.007640535015143668,\n",
       " 'No_Items_Removed_FromCart': 0.0007943490449344908,\n",
       " 'No_Checkout_Confirmed': 0.3521017492028851,\n",
       " 'No_Checkout_Initiated ': 0.016801785367553022,\n",
       " 'No_Cart_Items_Viewed': 0.0016062609462102685,\n",
       " 'No_Customer_Login': 0.030103144057055057,\n",
       " 'No_Page_Viewed': 0.0021715787235969328,\n",
       " 'Customer_Segment_Type': 0.0008826047736588292,\n",
       " 'Cart_Abandoned': 0.5878979928689626}"
      ]
     },
     "execution_count": 25,
     "metadata": {},
     "output_type": "execute_result"
    }
   ],
   "source": [
    "clf = RandomForestClassifier(n_estimators=10000, random_state=0, n_jobs=-1)\n",
    "\n",
    "# Train the classifier\n",
    "clf.fit(X, y)\n",
    "feature_weightage_dict = dict()\n",
    "# Print the name and gini importance of each feature\n",
    "for feature in zip(X.columns, clf.feature_importances_):\n",
    "    feature_weightage_dict.update({feature[0]:feature[1]})\n",
    "feature_weightage_dict"
   ]
  },
  {
   "cell_type": "code",
   "execution_count": 27,
   "id": "743fd089",
   "metadata": {},
   "outputs": [
    {
     "data": {
      "text/plain": [
       "[('Cart_Abandoned', 0.5878979928689626),\n",
       " ('No_Checkout_Confirmed', 0.3521017492028851),\n",
       " ('No_Customer_Login', 0.030103144057055057),\n",
       " ('No_Checkout_Initiated ', 0.016801785367553022),\n",
       " ('Session_Activity_Count', 0.007640535015143668),\n",
       " ('No_Page_Viewed', 0.0021715787235969328),\n",
       " ('No_Cart_Items_Viewed', 0.0016062609462102685),\n",
       " ('Customer_Segment_Type', 0.0008826047736588292),\n",
       " ('No_Items_Removed_FromCart', 0.0007943490449344908)]"
      ]
     },
     "execution_count": 27,
     "metadata": {},
     "output_type": "execute_result"
    }
   ],
   "source": [
    "sorted_feature_weightage_dict = sorted(feature_weightage_dict.items(), key=lambda kv: kv[1], reverse = True)\n",
    "sorted_feature_weightage_dict"
   ]
  },
  {
   "cell_type": "code",
   "execution_count": 28,
   "id": "400c2377",
   "metadata": {},
   "outputs": [
    {
     "data": {
      "text/html": [
       "<div>\n",
       "<style scoped>\n",
       "    .dataframe tbody tr th:only-of-type {\n",
       "        vertical-align: middle;\n",
       "    }\n",
       "\n",
       "    .dataframe tbody tr th {\n",
       "        vertical-align: top;\n",
       "    }\n",
       "\n",
       "    .dataframe thead th {\n",
       "        text-align: right;\n",
       "    }\n",
       "</style>\n",
       "<table border=\"1\" class=\"dataframe\">\n",
       "  <thead>\n",
       "    <tr style=\"text-align: right;\">\n",
       "      <th></th>\n",
       "      <th>ID</th>\n",
       "      <th>Session_Activity_Count</th>\n",
       "      <th>No_Items_Removed_FromCart</th>\n",
       "      <th>No_Checkout_Confirmed</th>\n",
       "      <th>No_Checkout_Initiated</th>\n",
       "      <th>No_Cart_Items_Viewed</th>\n",
       "      <th>No_Customer_Login</th>\n",
       "      <th>No_Page_Viewed</th>\n",
       "      <th>Customer_Segment_Type</th>\n",
       "      <th>Cart_Abandoned</th>\n",
       "    </tr>\n",
       "  </thead>\n",
       "  <tbody>\n",
       "    <tr>\n",
       "      <th>0</th>\n",
       "      <td>Session_ID_0</td>\n",
       "      <td>0.009174</td>\n",
       "      <td>0.00</td>\n",
       "      <td>0.000000</td>\n",
       "      <td>0.000000</td>\n",
       "      <td>0.003906</td>\n",
       "      <td>0.0</td>\n",
       "      <td>0.000000</td>\n",
       "      <td>0.0</td>\n",
       "      <td>1</td>\n",
       "    </tr>\n",
       "    <tr>\n",
       "      <th>1</th>\n",
       "      <td>Session_ID_1</td>\n",
       "      <td>0.087156</td>\n",
       "      <td>0.00</td>\n",
       "      <td>0.000000</td>\n",
       "      <td>0.000000</td>\n",
       "      <td>0.007812</td>\n",
       "      <td>0.0</td>\n",
       "      <td>0.057143</td>\n",
       "      <td>0.0</td>\n",
       "      <td>1</td>\n",
       "    </tr>\n",
       "    <tr>\n",
       "      <th>2</th>\n",
       "      <td>Session_ID_2</td>\n",
       "      <td>0.018349</td>\n",
       "      <td>0.00</td>\n",
       "      <td>0.090909</td>\n",
       "      <td>0.071429</td>\n",
       "      <td>0.003906</td>\n",
       "      <td>0.0</td>\n",
       "      <td>0.000000</td>\n",
       "      <td>0.5</td>\n",
       "      <td>0</td>\n",
       "    </tr>\n",
       "    <tr>\n",
       "      <th>3</th>\n",
       "      <td>Session_ID_3</td>\n",
       "      <td>0.013761</td>\n",
       "      <td>0.00</td>\n",
       "      <td>0.000000</td>\n",
       "      <td>0.000000</td>\n",
       "      <td>0.015625</td>\n",
       "      <td>0.0</td>\n",
       "      <td>0.000000</td>\n",
       "      <td>0.0</td>\n",
       "      <td>1</td>\n",
       "    </tr>\n",
       "    <tr>\n",
       "      <th>4</th>\n",
       "      <td>Session_ID_4</td>\n",
       "      <td>0.071101</td>\n",
       "      <td>0.24</td>\n",
       "      <td>0.000000</td>\n",
       "      <td>0.000000</td>\n",
       "      <td>0.015625</td>\n",
       "      <td>0.0</td>\n",
       "      <td>0.000000</td>\n",
       "      <td>1.0</td>\n",
       "      <td>1</td>\n",
       "    </tr>\n",
       "    <tr>\n",
       "      <th>...</th>\n",
       "      <td>...</td>\n",
       "      <td>...</td>\n",
       "      <td>...</td>\n",
       "      <td>...</td>\n",
       "      <td>...</td>\n",
       "      <td>...</td>\n",
       "      <td>...</td>\n",
       "      <td>...</td>\n",
       "      <td>...</td>\n",
       "      <td>...</td>\n",
       "    </tr>\n",
       "    <tr>\n",
       "      <th>4279</th>\n",
       "      <td>Session_ID_4279</td>\n",
       "      <td>0.052752</td>\n",
       "      <td>0.12</td>\n",
       "      <td>0.000000</td>\n",
       "      <td>0.000000</td>\n",
       "      <td>0.011719</td>\n",
       "      <td>0.0</td>\n",
       "      <td>0.200000</td>\n",
       "      <td>1.0</td>\n",
       "      <td>1</td>\n",
       "    </tr>\n",
       "    <tr>\n",
       "      <th>4280</th>\n",
       "      <td>Session_ID_4280</td>\n",
       "      <td>0.016055</td>\n",
       "      <td>0.00</td>\n",
       "      <td>0.000000</td>\n",
       "      <td>0.000000</td>\n",
       "      <td>0.003906</td>\n",
       "      <td>0.0</td>\n",
       "      <td>0.000000</td>\n",
       "      <td>0.0</td>\n",
       "      <td>1</td>\n",
       "    </tr>\n",
       "    <tr>\n",
       "      <th>4281</th>\n",
       "      <td>Session_ID_4281</td>\n",
       "      <td>0.009174</td>\n",
       "      <td>0.00</td>\n",
       "      <td>0.000000</td>\n",
       "      <td>0.071429</td>\n",
       "      <td>0.003906</td>\n",
       "      <td>0.0</td>\n",
       "      <td>0.000000</td>\n",
       "      <td>0.0</td>\n",
       "      <td>1</td>\n",
       "    </tr>\n",
       "    <tr>\n",
       "      <th>4282</th>\n",
       "      <td>Session_ID_4282</td>\n",
       "      <td>0.018349</td>\n",
       "      <td>0.00</td>\n",
       "      <td>0.000000</td>\n",
       "      <td>0.071429</td>\n",
       "      <td>0.003906</td>\n",
       "      <td>0.0</td>\n",
       "      <td>0.057143</td>\n",
       "      <td>0.5</td>\n",
       "      <td>1</td>\n",
       "    </tr>\n",
       "    <tr>\n",
       "      <th>4283</th>\n",
       "      <td>Session_ID_4283</td>\n",
       "      <td>0.071101</td>\n",
       "      <td>0.00</td>\n",
       "      <td>0.000000</td>\n",
       "      <td>0.071429</td>\n",
       "      <td>0.027344</td>\n",
       "      <td>0.0</td>\n",
       "      <td>0.028571</td>\n",
       "      <td>0.5</td>\n",
       "      <td>1</td>\n",
       "    </tr>\n",
       "  </tbody>\n",
       "</table>\n",
       "<p>4284 rows × 10 columns</p>\n",
       "</div>"
      ],
      "text/plain": [
       "                   ID  Session_Activity_Count  No_Items_Removed_FromCart  \\\n",
       "0        Session_ID_0                0.009174                       0.00   \n",
       "1        Session_ID_1                0.087156                       0.00   \n",
       "2        Session_ID_2                0.018349                       0.00   \n",
       "3        Session_ID_3                0.013761                       0.00   \n",
       "4        Session_ID_4                0.071101                       0.24   \n",
       "...               ...                     ...                        ...   \n",
       "4279  Session_ID_4279                0.052752                       0.12   \n",
       "4280  Session_ID_4280                0.016055                       0.00   \n",
       "4281  Session_ID_4281                0.009174                       0.00   \n",
       "4282  Session_ID_4282                0.018349                       0.00   \n",
       "4283  Session_ID_4283                0.071101                       0.00   \n",
       "\n",
       "      No_Checkout_Confirmed  No_Checkout_Initiated   No_Cart_Items_Viewed  \\\n",
       "0                  0.000000                0.000000              0.003906   \n",
       "1                  0.000000                0.000000              0.007812   \n",
       "2                  0.090909                0.071429              0.003906   \n",
       "3                  0.000000                0.000000              0.015625   \n",
       "4                  0.000000                0.000000              0.015625   \n",
       "...                     ...                     ...                   ...   \n",
       "4279               0.000000                0.000000              0.011719   \n",
       "4280               0.000000                0.000000              0.003906   \n",
       "4281               0.000000                0.071429              0.003906   \n",
       "4282               0.000000                0.071429              0.003906   \n",
       "4283               0.000000                0.071429              0.027344   \n",
       "\n",
       "      No_Customer_Login  No_Page_Viewed  Customer_Segment_Type Cart_Abandoned  \n",
       "0                   0.0        0.000000                    0.0              1  \n",
       "1                   0.0        0.057143                    0.0              1  \n",
       "2                   0.0        0.000000                    0.5              0  \n",
       "3                   0.0        0.000000                    0.0              1  \n",
       "4                   0.0        0.000000                    1.0              1  \n",
       "...                 ...             ...                    ...            ...  \n",
       "4279                0.0        0.200000                    1.0              1  \n",
       "4280                0.0        0.000000                    0.0              1  \n",
       "4281                0.0        0.000000                    0.0              1  \n",
       "4282                0.0        0.057143                    0.5              1  \n",
       "4283                0.0        0.028571                    0.5              1  \n",
       "\n",
       "[4284 rows x 10 columns]"
      ]
     },
     "execution_count": 28,
     "metadata": {},
     "output_type": "execute_result"
    }
   ],
   "source": [
    "df_final"
   ]
  },
  {
   "cell_type": "markdown",
   "id": "e87e787a",
   "metadata": {},
   "source": [
    "#### Now comparing both the models we can see the No_Items_Added_InCart, No_Checkout_Confirmed, No_Checkout_Initiated, No_Customer_Login and No_Page_Viewed has the higher feature importance. So we will only consider these features to train our model."
   ]
  },
  {
   "cell_type": "markdown",
   "id": "132ab367",
   "metadata": {},
   "source": [
    "### Creating Train & Test Sets"
   ]
  },
  {
   "cell_type": "code",
   "execution_count": 29,
   "id": "eedd4289",
   "metadata": {},
   "outputs": [],
   "source": [
    "X = df_final.drop(['Cart_Abandoned','ID','Session_Activity_Count','No_Items_Removed_FromCart','No_Cart_Items_Viewed','Customer_Segment_Type' ], axis = 1)\n",
    "y = df_final['Cart_Abandoned']\n",
    "X_train, X_test, y_train, y_test = train_test_split(X, y, test_size=0.40, random_state=0)"
   ]
  },
  {
   "cell_type": "code",
   "execution_count": 30,
   "id": "b98ff418",
   "metadata": {},
   "outputs": [],
   "source": [
    "# from sklearn.model_selection we are importing train_test_split for splitting data into training and testing data.\n",
    "# from sklearn.metrics we are importing accuracy_score , roc_auc_score , confusion_matrix \n",
    "\n",
    "from sklearn.model_selection import train_test_split\n",
    "from sklearn.metrics import accuracy_score , roc_auc_score , confusion_matrix"
   ]
  },
  {
   "cell_type": "code",
   "execution_count": 31,
   "id": "9973381c",
   "metadata": {},
   "outputs": [
    {
     "name": "stdout",
     "output_type": "stream",
     "text": [
      "the shapes of x-train and x-test are :  (2570, 4) (1714, 4)\n",
      "the shapes of y-train and y-test are :  (2570,) (1714,)\n"
     ]
    }
   ],
   "source": [
    "print(\"the shapes of x-train and x-test are : \" , X_train.shape , X_test.shape)\n",
    "print(\"the shapes of y-train and y-test are : \" , y_train.shape , y_test.shape)"
   ]
  },
  {
   "cell_type": "code",
   "execution_count": 32,
   "id": "aa9b64c1",
   "metadata": {},
   "outputs": [
    {
     "data": {
      "text/plain": [
       "Text(0.5, 1.0, 'Correlation HeatMap')"
      ]
     },
     "execution_count": 32,
     "metadata": {},
     "output_type": "execute_result"
    },
    {
     "data": {
      "image/png": "[encoded data removed]",
      "text/plain": [
       "<Figure size 1440x576 with 2 Axes>"
      ]
     },
     "metadata": {
      "needs_background": "light"
     },
     "output_type": "display_data"
    }
   ],
   "source": [
    "# correlation heatmap\n",
    "\n",
    "plt.figure(figsize=(20,8))\n",
    "heatmap = sns.heatmap(df_final.corr() , vmin=-1 , vmax=1 ,annot=True , cmap='BrBG')\n",
    "heatmap.set_title('Correlation HeatMap' , fontdict = {'fontsize' : 18} , pad=12)"
   ]
  },
  {
   "cell_type": "markdown",
   "id": "d23bbe89",
   "metadata": {},
   "source": [
    "## Building ML Models"
   ]
  },
  {
   "cell_type": "markdown",
   "id": "ecc1bca4",
   "metadata": {},
   "source": [
    "### Decision Tree Classifier"
   ]
  },
  {
   "cell_type": "code",
   "execution_count": 33,
   "id": "cf75a087",
   "metadata": {},
   "outputs": [],
   "source": [
    "# importing DecisionTreeClassifier\n",
    "# creates the classification model by building a decision tree.\n",
    "\n",
    "from sklearn.tree import DecisionTreeClassifier , plot_tree"
   ]
  },
  {
   "cell_type": "code",
   "execution_count": 34,
   "id": "c96ac1c9",
   "metadata": {},
   "outputs": [],
   "source": [
    "dt_clf = DecisionTreeClassifier()"
   ]
  },
  {
   "cell_type": "code",
   "execution_count": 35,
   "id": "30abce2f",
   "metadata": {},
   "outputs": [
    {
     "data": {
      "text/html": [
       "<style>#sk-container-id-2 {color: black;background-color: white;}#sk-container-id-2 pre{padding: 0;}#sk-container-id-2 div.sk-toggleable {background-color: white;}#sk-container-id-2 label.sk-toggleable__label {cursor: pointer;display: block;width: 100%;margin-bottom: 0;padding: 0.3em;box-sizing: border-box;text-align: center;}#sk-container-id-2 label.sk-toggleable__label-arrow:before {content: \"▸\";float: left;margin-right: 0.25em;color: #696969;}#sk-container-id-2 label.sk-toggleable__label-arrow:hover:before {color: black;}#sk-container-id-2 div.sk-estimator:hover label.sk-toggleable__label-arrow:before {color: black;}#sk-container-id-2 div.sk-toggleable__content {max-height: 0;max-width: 0;overflow: hidden;text-align: left;background-color: #f0f8ff;}#sk-container-id-2 div.sk-toggleable__content pre {margin: 0.2em;color: black;border-radius: 0.25em;background-color: #f0f8ff;}#sk-container-id-2 input.sk-toggleable__control:checked~div.sk-toggleable__content {max-height: 200px;max-width: 100%;overflow: auto;}#sk-container-id-2 input.sk-toggleable__control:checked~label.sk-toggleable__label-arrow:before {content: \"▾\";}#sk-container-id-2 div.sk-estimator input.sk-toggleable__control:checked~label.sk-toggleable__label {background-color: #d4ebff;}#sk-container-id-2 div.sk-label input.sk-toggleable__control:checked~label.sk-toggleable__label {background-color: #d4ebff;}#sk-container-id-2 input.sk-hidden--visually {border: 0;clip: rect(1px 1px 1px 1px);clip: rect(1px, 1px, 1px, 1px);height: 1px;margin: -1px;overflow: hidden;padding: 0;position: absolute;width: 1px;}#sk-container-id-2 div.sk-estimator {font-family: monospace;background-color: #f0f8ff;border: 1px dotted black;border-radius: 0.25em;box-sizing: border-box;margin-bottom: 0.5em;}#sk-container-id-2 div.sk-estimator:hover {background-color: #d4ebff;}#sk-container-id-2 div.sk-parallel-item::after {content: \"\";width: 100%;border-bottom: 1px solid gray;flex-grow: 1;}#sk-container-id-2 div.sk-label:hover label.sk-toggleable__label {background-color: #d4ebff;}#sk-container-id-2 div.sk-serial::before {content: \"\";position: absolute;border-left: 1px solid gray;box-sizing: border-box;top: 0;bottom: 0;left: 50%;z-index: 0;}#sk-container-id-2 div.sk-serial {display: flex;flex-direction: column;align-items: center;background-color: white;padding-right: 0.2em;padding-left: 0.2em;position: relative;}#sk-container-id-2 div.sk-item {position: relative;z-index: 1;}#sk-container-id-2 div.sk-parallel {display: flex;align-items: stretch;justify-content: center;background-color: white;position: relative;}#sk-container-id-2 div.sk-item::before, #sk-container-id-2 div.sk-parallel-item::before {content: \"\";position: absolute;border-left: 1px solid gray;box-sizing: border-box;top: 0;bottom: 0;left: 50%;z-index: -1;}#sk-container-id-2 div.sk-parallel-item {display: flex;flex-direction: column;z-index: 1;position: relative;background-color: white;}#sk-container-id-2 div.sk-parallel-item:first-child::after {align-self: flex-end;width: 50%;}#sk-container-id-2 div.sk-parallel-item:last-child::after {align-self: flex-start;width: 50%;}#sk-container-id-2 div.sk-parallel-item:only-child::after {width: 0;}#sk-container-id-2 div.sk-dashed-wrapped {border: 1px dashed gray;margin: 0 0.4em 0.5em 0.4em;box-sizing: border-box;padding-bottom: 0.4em;background-color: white;}#sk-container-id-2 div.sk-label label {font-family: monospace;font-weight: bold;display: inline-block;line-height: 1.2em;}#sk-container-id-2 div.sk-label-container {text-align: center;}#sk-container-id-2 div.sk-container {/* jupyter's `normalize.less` sets `[hidden] { display: none; }` but bootstrap.min.css set `[hidden] { display: none !important; }` so we also need the `!important` here to be able to override the default hidden behavior on the sphinx rendered scikit-learn.org. See: https://github.com/scikit-learn/scikit-learn/issues/21755 */display: inline-block !important;position: relative;}#sk-container-id-2 div.sk-text-repr-fallback {display: none;}</style><div id=\"sk-container-id-2\" class=\"sk-top-container\"><div class=\"sk-text-repr-fallback\"><pre>DecisionTreeClassifier()</pre><b>In a Jupyter environment, please rerun this cell to show the HTML representation or trust the notebook. <br />On GitHub, the HTML representation is unable to render, please try loading this page with nbviewer.org.</b></div><div class=\"sk-container\" hidden><div class=\"sk-item\"><div class=\"sk-estimator sk-toggleable\"><input class=\"sk-toggleable__control sk-hidden--visually\" id=\"sk-estimator-id-2\" type=\"checkbox\" checked><label for=\"sk-estimator-id-2\" class=\"sk-toggleable__label sk-toggleable__label-arrow\">DecisionTreeClassifier</label><div class=\"sk-toggleable__content\"><pre>DecisionTreeClassifier()</pre></div></div></div></div></div>"
      ],
      "text/plain": [
       "DecisionTreeClassifier()"
      ]
     },
     "execution_count": 35,
     "metadata": {},
     "output_type": "execute_result"
    }
   ],
   "source": [
    "dt_clf.fit(X_train , y_train)"
   ]
  },
  {
   "cell_type": "code",
   "execution_count": 36,
   "id": "5bf6ae22",
   "metadata": {},
   "outputs": [],
   "source": [
    "y_preds_dt = dt_clf.predict(X_test)"
   ]
  },
  {
   "cell_type": "code",
   "execution_count": 184,
   "id": "b73e4939",
   "metadata": {},
   "outputs": [
    {
     "name": "stdout",
     "output_type": "stream",
     "text": [
      "Accuracy Score of the Decision Tree Model 0.9807467911318553\n",
      "ROC AUC score of the Decision Tree Model is :  0.9802302888368463\n"
     ]
    }
   ],
   "source": [
    "print(\"Accuracy Score of the Decision Tree Model\" , accuracy_score(y_test , y_preds_dt))\n",
    "print(\"ROC AUC score of the Decision Tree Model is : \" , roc_auc_score(y_test , y_preds_dt))"
   ]
  },
  {
   "cell_type": "markdown",
   "id": "b9e0d567",
   "metadata": {},
   "source": [
    "#### Here, the Accuracy Score of the Decision Tree Model = 0.97"
   ]
  },
  {
   "cell_type": "code",
   "execution_count": 37,
   "id": "d9e6555e",
   "metadata": {},
   "outputs": [
    {
     "data": {
      "text/plain": [
       "Text(0.5, 1.0, 'Confusin Matrix Of Decision Tree Model')"
      ]
     },
     "execution_count": 37,
     "metadata": {},
     "output_type": "execute_result"
    },
    {
     "data": {
      "image/png": "[encoded data removed]",
      "text/plain": [
       "<Figure size 720x504 with 2 Axes>"
      ]
     },
     "metadata": {
      "needs_background": "light"
     },
     "output_type": "display_data"
    }
   ],
   "source": [
    "#confusion Matrix of Decision Tree Model \n",
    "cm  = confusion_matrix(y_test , y_preds_dt)\n",
    "\n",
    "x_axis_labels = [\"Yes\" , \"No\"]\n",
    "y_axis_labels = [\"Yes\" , \"No\"]\n",
    "\n",
    "f , ax = plt.subplots(figsize=(10,7))\n",
    "sns.heatmap(cm , annot=True, linewidths=0.2 , linecolor=\"black\" , fmt=\".0f\" , ax=ax , cmap=\"Greens\" , \n",
    "           xticklabels=x_axis_labels , yticklabels=y_axis_labels)\n",
    "plt.xlabel(\"PREDICTED LABEL\")\n",
    "plt.ylabel(\"TRUE LABEL\")\n",
    "plt.title(\"Confusin Matrix Of Decision Tree Model\")"
   ]
  },
  {
   "cell_type": "code",
   "execution_count": 38,
   "id": "d8546343",
   "metadata": {},
   "outputs": [],
   "source": [
    "# importing RandomForestClassifier , ExtraTreesClassifier , BaggingClassifier , AdaBoostClassifier from sklearn.ensemble\n",
    "\n",
    "# A random forest is a meta estimator that fits a number of decision tree classifiers on various sub-samples of the dataset and uses averaging to improve the predictive accuracy and control over-fitting\n",
    "\n",
    "# An extra-trees classifier implements a meta estimator that fits a number of randomized decision trees (a.k.a. extra-trees) on various sub-samples of the dataset and uses averaging to improve the predictive accuracy and control over-fitting\n",
    "\n",
    "# A Bagging classifier is an ensemble meta-estimator that fits base classifiers each on random subsets of the original dataset and then aggregate their individual predictions (either by voting or by averaging) to form a final prediction.\n",
    "\n",
    "# AdaBoostClassifier is a meta-estimator that begins by fitting a classifier on the original dataset and then fits additional copies of the classifier on the same dataset but where the weights of incorrectly classified instances are adjusted such that subsequent classifiers focus more on difficult cases.\n",
    "\n",
    "from sklearn.ensemble import RandomForestClassifier , ExtraTreesClassifier , BaggingClassifier , AdaBoostClassifier"
   ]
  },
  {
   "cell_type": "code",
   "execution_count": 39,
   "id": "d08b5b36",
   "metadata": {},
   "outputs": [],
   "source": [
    "rf_clf = RandomForestClassifier(n_estimators=100)\n",
    "extratree_clf = ExtraTreesClassifier(n_estimators=100)\n",
    "bg_clf = BaggingClassifier(n_estimators=100)\n",
    "ada_clf = AdaBoostClassifier(n_estimators=100)"
   ]
  },
  {
   "cell_type": "code",
   "execution_count": 40,
   "id": "b2c65f4f",
   "metadata": {},
   "outputs": [
    {
     "data": {
      "text/html": [
       "<style>#sk-container-id-3 {color: black;background-color: white;}#sk-container-id-3 pre{padding: 0;}#sk-container-id-3 div.sk-toggleable {background-color: white;}#sk-container-id-3 label.sk-toggleable__label {cursor: pointer;display: block;width: 100%;margin-bottom: 0;padding: 0.3em;box-sizing: border-box;text-align: center;}#sk-container-id-3 label.sk-toggleable__label-arrow:before {content: \"▸\";float: left;margin-right: 0.25em;color: #696969;}#sk-container-id-3 label.sk-toggleable__label-arrow:hover:before {color: black;}#sk-container-id-3 div.sk-estimator:hover label.sk-toggleable__label-arrow:before {color: black;}#sk-container-id-3 div.sk-toggleable__content {max-height: 0;max-width: 0;overflow: hidden;text-align: left;background-color: #f0f8ff;}#sk-container-id-3 div.sk-toggleable__content pre {margin: 0.2em;color: black;border-radius: 0.25em;background-color: #f0f8ff;}#sk-container-id-3 input.sk-toggleable__control:checked~div.sk-toggleable__content {max-height: 200px;max-width: 100%;overflow: auto;}#sk-container-id-3 input.sk-toggleable__control:checked~label.sk-toggleable__label-arrow:before {content: \"▾\";}#sk-container-id-3 div.sk-estimator input.sk-toggleable__control:checked~label.sk-toggleable__label {background-color: #d4ebff;}#sk-container-id-3 div.sk-label input.sk-toggleable__control:checked~label.sk-toggleable__label {background-color: #d4ebff;}#sk-container-id-3 input.sk-hidden--visually {border: 0;clip: rect(1px 1px 1px 1px);clip: rect(1px, 1px, 1px, 1px);height: 1px;margin: -1px;overflow: hidden;padding: 0;position: absolute;width: 1px;}#sk-container-id-3 div.sk-estimator {font-family: monospace;background-color: #f0f8ff;border: 1px dotted black;border-radius: 0.25em;box-sizing: border-box;margin-bottom: 0.5em;}#sk-container-id-3 div.sk-estimator:hover {background-color: #d4ebff;}#sk-container-id-3 div.sk-parallel-item::after {content: \"\";width: 100%;border-bottom: 1px solid gray;flex-grow: 1;}#sk-container-id-3 div.sk-label:hover label.sk-toggleable__label {background-color: #d4ebff;}#sk-container-id-3 div.sk-serial::before {content: \"\";position: absolute;border-left: 1px solid gray;box-sizing: border-box;top: 0;bottom: 0;left: 50%;z-index: 0;}#sk-container-id-3 div.sk-serial {display: flex;flex-direction: column;align-items: center;background-color: white;padding-right: 0.2em;padding-left: 0.2em;position: relative;}#sk-container-id-3 div.sk-item {position: relative;z-index: 1;}#sk-container-id-3 div.sk-parallel {display: flex;align-items: stretch;justify-content: center;background-color: white;position: relative;}#sk-container-id-3 div.sk-item::before, #sk-container-id-3 div.sk-parallel-item::before {content: \"\";position: absolute;border-left: 1px solid gray;box-sizing: border-box;top: 0;bottom: 0;left: 50%;z-index: -1;}#sk-container-id-3 div.sk-parallel-item {display: flex;flex-direction: column;z-index: 1;position: relative;background-color: white;}#sk-container-id-3 div.sk-parallel-item:first-child::after {align-self: flex-end;width: 50%;}#sk-container-id-3 div.sk-parallel-item:last-child::after {align-self: flex-start;width: 50%;}#sk-container-id-3 div.sk-parallel-item:only-child::after {width: 0;}#sk-container-id-3 div.sk-dashed-wrapped {border: 1px dashed gray;margin: 0 0.4em 0.5em 0.4em;box-sizing: border-box;padding-bottom: 0.4em;background-color: white;}#sk-container-id-3 div.sk-label label {font-family: monospace;font-weight: bold;display: inline-block;line-height: 1.2em;}#sk-container-id-3 div.sk-label-container {text-align: center;}#sk-container-id-3 div.sk-container {/* jupyter's `normalize.less` sets `[hidden] { display: none; }` but bootstrap.min.css set `[hidden] { display: none !important; }` so we also need the `!important` here to be able to override the default hidden behavior on the sphinx rendered scikit-learn.org. See: https://github.com/scikit-learn/scikit-learn/issues/21755 */display: inline-block !important;position: relative;}#sk-container-id-3 div.sk-text-repr-fallback {display: none;}</style><div id=\"sk-container-id-3\" class=\"sk-top-container\"><div class=\"sk-text-repr-fallback\"><pre>AdaBoostClassifier(n_estimators=100)</pre><b>In a Jupyter environment, please rerun this cell to show the HTML representation or trust the notebook. <br />On GitHub, the HTML representation is unable to render, please try loading this page with nbviewer.org.</b></div><div class=\"sk-container\" hidden><div class=\"sk-item\"><div class=\"sk-estimator sk-toggleable\"><input class=\"sk-toggleable__control sk-hidden--visually\" id=\"sk-estimator-id-3\" type=\"checkbox\" checked><label for=\"sk-estimator-id-3\" class=\"sk-toggleable__label sk-toggleable__label-arrow\">AdaBoostClassifier</label><div class=\"sk-toggleable__content\"><pre>AdaBoostClassifier(n_estimators=100)</pre></div></div></div></div></div>"
      ],
      "text/plain": [
       "AdaBoostClassifier(n_estimators=100)"
      ]
     },
     "execution_count": 40,
     "metadata": {},
     "output_type": "execute_result"
    }
   ],
   "source": [
    "rf_clf.fit(X_train , y_train)\n",
    "extratree_clf.fit(X_train , y_train)\n",
    "bg_clf.fit(X_train , y_train)\n",
    "ada_clf.fit(X_train , y_train)"
   ]
  },
  {
   "cell_type": "code",
   "execution_count": 41,
   "id": "75a7dfc5",
   "metadata": {},
   "outputs": [],
   "source": [
    "y_preds_rf = rf_clf.predict(X_test)\n",
    "y_preds_et = extratree_clf.predict(X_test)\n",
    "y_preds_bg = bg_clf.predict(X_test)\n",
    "y_preds_ada = ada_clf.predict(X_test)"
   ]
  },
  {
   "cell_type": "code",
   "execution_count": 42,
   "id": "8fee579a",
   "metadata": {},
   "outputs": [
    {
     "name": "stdout",
     "output_type": "stream",
     "text": [
      "Accuracy Score of the Random Forest Model 0.9813302217036173\n",
      "Accuracy Score of the Extre Tree Classifier Model 0.9801633605600933\n",
      "Accuracy Score of the Bagging Classifier Model 0.9801633605600933\n",
      "Accuracy Score of the AdaBoost Classifier Model 0.9813302217036173\n"
     ]
    }
   ],
   "source": [
    "print(\"Accuracy Score of the Random Forest Model\", accuracy_score(y_test, y_preds_rf))\n",
    "print(\"Accuracy Score of the Extre Tree Classifier Model\", accuracy_score(y_test, y_preds_et))\n",
    "print(\"Accuracy Score of the Bagging Classifier Model\", accuracy_score(y_test, y_preds_bg))\n",
    "print(\"Accuracy Score of the AdaBoost Classifier Model\", accuracy_score(y_test, y_preds_ada))"
   ]
  },
  {
   "cell_type": "code",
   "execution_count": 43,
   "id": "3e386415",
   "metadata": {},
   "outputs": [
    {
     "name": "stdout",
     "output_type": "stream",
     "text": [
      "ROC AUC Score of the Random Forest Model 0.980570424891268\n",
      "ROC AUC Score of the Extre Tree Classifier Model 0.9781811085089774\n",
      "ROC AUC Score of the Bagging Classifier Model 0.9747630199620831\n",
      "ROC AUC Score of the AdaBoost Classifier Model 0.9822794691647151\n"
     ]
    }
   ],
   "source": [
    "print(\"ROC AUC Score of the Random Forest Model\", roc_auc_score(y_test, y_preds_rf))\n",
    "print(\"ROC AUC Score of the Extre Tree Classifier Model\", roc_auc_score(y_test, y_preds_et))\n",
    "print(\"ROC AUC Score of the Bagging Classifier Model\", roc_auc_score(y_test, y_preds_bg))\n",
    "print(\"ROC AUC Score of the AdaBoost Classifier Model\", roc_auc_score(y_test, y_preds_ada))"
   ]
  },
  {
   "cell_type": "markdown",
   "id": "61106b30",
   "metadata": {},
   "source": [
    "## Confusion Matrix"
   ]
  },
  {
   "cell_type": "code",
   "execution_count": 45,
   "id": "92ead4ed",
   "metadata": {},
   "outputs": [
    {
     "data": {
      "text/plain": [
       "Text(0.5, 1.0, 'Confusion Matrix for Random Forest Classifier Model')"
      ]
     },
     "execution_count": 45,
     "metadata": {},
     "output_type": "execute_result"
    },
    {
     "data": {
      "image/png": "[encoded data removed]",
      "text/plain": [
       "<Figure size 720x504 with 2 Axes>"
      ]
     },
     "metadata": {
      "needs_background": "light"
     },
     "output_type": "display_data"
    }
   ],
   "source": [
    "#Confusion Matrix of Random Forest Classifier Model.\n",
    "cm = confusion_matrix(y_test, y_preds_rf)\n",
    "\n",
    "x_axis_labels = [\"Yes\", \"No\"]\n",
    "y_axis_labels = [\"Yes\", \"No\"]\n",
    "\n",
    "f, ax = plt.subplots(figsize =(10,7))\n",
    "sns.heatmap(cm, annot = True, linewidths=0.2, linecolor=\"black\", fmt = \".0f\", ax=ax, cmap=\"Greens\", \n",
    "            xticklabels=x_axis_labels, yticklabels=y_axis_labels)\n",
    "plt.xlabel(\"PREDICTED LABEL\")\n",
    "plt.ylabel(\"TRUE LABEL\")\n",
    "plt.title('Confusion Matrix for Random Forest Classifier Model')"
   ]
  },
  {
   "cell_type": "code",
   "execution_count": 46,
   "id": "58536a8a",
   "metadata": {},
   "outputs": [
    {
     "data": {
      "text/plain": [
       "Text(0.5, 1.0, 'Confusion Matrix for Extra Tree Classifier Model')"
      ]
     },
     "execution_count": 46,
     "metadata": {},
     "output_type": "execute_result"
    },
    {
     "data": {
      "image/png": "[encoded data removed]",
      "text/plain": [
       "<Figure size 720x504 with 2 Axes>"
      ]
     },
     "metadata": {
      "needs_background": "light"
     },
     "output_type": "display_data"
    }
   ],
   "source": [
    "#Confusion Matrix of Extra Tree Classifier Model.\n",
    "cm = confusion_matrix(y_test, y_preds_et)\n",
    "\n",
    "x_axis_labels = [\"Yes\", \"No\"]\n",
    "y_axis_labels = [\"Yes\", \"No\"]\n",
    "\n",
    "f, ax = plt.subplots(figsize =(10,7))\n",
    "sns.heatmap(cm, annot = True, linewidths=0.2, linecolor=\"black\", fmt = \".0f\", ax=ax, cmap=\"Greens\", \n",
    "            xticklabels=x_axis_labels, yticklabels=y_axis_labels)\n",
    "plt.xlabel(\"PREDICTED LABEL\")\n",
    "plt.ylabel(\"TRUE LABEL\")\n",
    "plt.title('Confusion Matrix for Extra Tree Classifier Model')"
   ]
  },
  {
   "cell_type": "code",
   "execution_count": 47,
   "id": "44cda2f9",
   "metadata": {},
   "outputs": [
    {
     "data": {
      "text/plain": [
       "Text(0.5, 1.0, 'Confusion Matrix for Bagging Classifier Model')"
      ]
     },
     "execution_count": 47,
     "metadata": {},
     "output_type": "execute_result"
    },
    {
     "data": {
      "image/png": "[encoded data removed]",
      "text/plain": [
       "<Figure size 720x504 with 2 Axes>"
      ]
     },
     "metadata": {
      "needs_background": "light"
     },
     "output_type": "display_data"
    }
   ],
   "source": [
    "#Confusion Matrix of Bagging Classifier Model.\n",
    "cm = confusion_matrix(y_test, y_preds_bg)\n",
    "\n",
    "x_axis_labels = [\"Yes\", \"No\"]\n",
    "y_axis_labels = [\"Yes\", \"No\"]\n",
    "\n",
    "f, ax = plt.subplots(figsize =(10,7))\n",
    "sns.heatmap(cm, annot = True, linewidths=0.2, linecolor=\"black\", fmt = \".0f\", ax=ax, cmap=\"Greens\", \n",
    "            xticklabels=x_axis_labels, yticklabels=y_axis_labels)\n",
    "plt.xlabel(\"PREDICTED LABEL\")\n",
    "plt.ylabel(\"TRUE LABEL\")\n",
    "plt.title('Confusion Matrix for Bagging Classifier Model')"
   ]
  },
  {
   "cell_type": "code",
   "execution_count": 48,
   "id": "b1cfba94",
   "metadata": {},
   "outputs": [
    {
     "data": {
      "text/plain": [
       "Text(0.5, 1.0, 'Confusion Matrix for AdaBoost Classifier Model')"
      ]
     },
     "execution_count": 48,
     "metadata": {},
     "output_type": "execute_result"
    },
    {
     "data": {
      "image/png": "[encoded data removed]",
      "text/plain": [
       "<Figure size 720x504 with 2 Axes>"
      ]
     },
     "metadata": {
      "needs_background": "light"
     },
     "output_type": "display_data"
    }
   ],
   "source": [
    "#Confusion Matrix of AdaBoost Classifier Model.\n",
    "cm = confusion_matrix(y_test, y_preds_ada)\n",
    "\n",
    "x_axis_labels = [\"Yes\", \"No\"]\n",
    "y_axis_labels = [\"Yes\", \"No\"]\n",
    "\n",
    "f, ax = plt.subplots(figsize =(10,7))\n",
    "sns.heatmap(cm, annot = True, linewidths=0.2, linecolor=\"black\", fmt = \".0f\", ax=ax, cmap=\"Greens\", \n",
    "            xticklabels=x_axis_labels, yticklabels=y_axis_labels)\n",
    "plt.xlabel(\"PREDICTED LABEL\")\n",
    "plt.ylabel(\"TRUE LABEL\")\n",
    "plt.title('Confusion Matrix for AdaBoost Classifier Model')"
   ]
  },
  {
   "cell_type": "markdown",
   "id": "f8f4ef0e",
   "metadata": {},
   "source": [
    "## LGBM Classifier-Hyperparameter tuning"
   ]
  },
  {
   "cell_type": "code",
   "execution_count": 49,
   "id": "0121d7e0",
   "metadata": {},
   "outputs": [
    {
     "name": "stdout",
     "output_type": "stream",
     "text": [
      "Requirement already satisfied: lightgbm in c:\\users\\bista\\anaconda3\\lib\\site-packages (3.3.3)\n",
      "Requirement already satisfied: scikit-learn!=0.22.0 in c:\\users\\bista\\anaconda3\\lib\\site-packages (from lightgbm) (1.1.2)\n",
      "Requirement already satisfied: scipy in c:\\users\\bista\\anaconda3\\lib\\site-packages (from lightgbm) (1.7.3)\n",
      "Requirement already satisfied: wheel in c:\\users\\bista\\anaconda3\\lib\\site-packages (from lightgbm) (0.37.1)\n",
      "Requirement already satisfied: numpy in c:\\users\\bista\\anaconda3\\lib\\site-packages (from lightgbm) (1.21.5)\n",
      "Requirement already satisfied: joblib>=1.0.0 in c:\\users\\bista\\anaconda3\\lib\\site-packages (from scikit-learn!=0.22.0->lightgbm) (1.1.0)\n",
      "Requirement already satisfied: threadpoolctl>=2.0.0 in c:\\users\\bista\\anaconda3\\lib\\site-packages (from scikit-learn!=0.22.0->lightgbm) (2.2.0)\n",
      "Note: you may need to restart the kernel to use updated packages.\n"
     ]
    }
   ],
   "source": [
    "pip install lightgbm"
   ]
  },
  {
   "cell_type": "code",
   "execution_count": 50,
   "id": "37cf1da9",
   "metadata": {},
   "outputs": [],
   "source": [
    "# importing LGBMClassifier from lightgbm\n",
    "\n",
    "# Light GBM is a fast, distributed, high-performance gradient boosting framework based on decision tree algorithm\n",
    "\n",
    "from lightgbm import LGBMClassifier"
   ]
  },
  {
   "cell_type": "code",
   "execution_count": 51,
   "id": "21ff2a17",
   "metadata": {},
   "outputs": [],
   "source": [
    "lgbm_clf = LGBMClassifier()"
   ]
  },
  {
   "cell_type": "code",
   "execution_count": 52,
   "id": "9205f97f",
   "metadata": {},
   "outputs": [
    {
     "data": {
      "text/html": [
       "<style>#sk-container-id-4 {color: black;background-color: white;}#sk-container-id-4 pre{padding: 0;}#sk-container-id-4 div.sk-toggleable {background-color: white;}#sk-container-id-4 label.sk-toggleable__label {cursor: pointer;display: block;width: 100%;margin-bottom: 0;padding: 0.3em;box-sizing: border-box;text-align: center;}#sk-container-id-4 label.sk-toggleable__label-arrow:before {content: \"▸\";float: left;margin-right: 0.25em;color: #696969;}#sk-container-id-4 label.sk-toggleable__label-arrow:hover:before {color: black;}#sk-container-id-4 div.sk-estimator:hover label.sk-toggleable__label-arrow:before {color: black;}#sk-container-id-4 div.sk-toggleable__content {max-height: 0;max-width: 0;overflow: hidden;text-align: left;background-color: #f0f8ff;}#sk-container-id-4 div.sk-toggleable__content pre {margin: 0.2em;color: black;border-radius: 0.25em;background-color: #f0f8ff;}#sk-container-id-4 input.sk-toggleable__control:checked~div.sk-toggleable__content {max-height: 200px;max-width: 100%;overflow: auto;}#sk-container-id-4 input.sk-toggleable__control:checked~label.sk-toggleable__label-arrow:before {content: \"▾\";}#sk-container-id-4 div.sk-estimator input.sk-toggleable__control:checked~label.sk-toggleable__label {background-color: #d4ebff;}#sk-container-id-4 div.sk-label input.sk-toggleable__control:checked~label.sk-toggleable__label {background-color: #d4ebff;}#sk-container-id-4 input.sk-hidden--visually {border: 0;clip: rect(1px 1px 1px 1px);clip: rect(1px, 1px, 1px, 1px);height: 1px;margin: -1px;overflow: hidden;padding: 0;position: absolute;width: 1px;}#sk-container-id-4 div.sk-estimator {font-family: monospace;background-color: #f0f8ff;border: 1px dotted black;border-radius: 0.25em;box-sizing: border-box;margin-bottom: 0.5em;}#sk-container-id-4 div.sk-estimator:hover {background-color: #d4ebff;}#sk-container-id-4 div.sk-parallel-item::after {content: \"\";width: 100%;border-bottom: 1px solid gray;flex-grow: 1;}#sk-container-id-4 div.sk-label:hover label.sk-toggleable__label {background-color: #d4ebff;}#sk-container-id-4 div.sk-serial::before {content: \"\";position: absolute;border-left: 1px solid gray;box-sizing: border-box;top: 0;bottom: 0;left: 50%;z-index: 0;}#sk-container-id-4 div.sk-serial {display: flex;flex-direction: column;align-items: center;background-color: white;padding-right: 0.2em;padding-left: 0.2em;position: relative;}#sk-container-id-4 div.sk-item {position: relative;z-index: 1;}#sk-container-id-4 div.sk-parallel {display: flex;align-items: stretch;justify-content: center;background-color: white;position: relative;}#sk-container-id-4 div.sk-item::before, #sk-container-id-4 div.sk-parallel-item::before {content: \"\";position: absolute;border-left: 1px solid gray;box-sizing: border-box;top: 0;bottom: 0;left: 50%;z-index: -1;}#sk-container-id-4 div.sk-parallel-item {display: flex;flex-direction: column;z-index: 1;position: relative;background-color: white;}#sk-container-id-4 div.sk-parallel-item:first-child::after {align-self: flex-end;width: 50%;}#sk-container-id-4 div.sk-parallel-item:last-child::after {align-self: flex-start;width: 50%;}#sk-container-id-4 div.sk-parallel-item:only-child::after {width: 0;}#sk-container-id-4 div.sk-dashed-wrapped {border: 1px dashed gray;margin: 0 0.4em 0.5em 0.4em;box-sizing: border-box;padding-bottom: 0.4em;background-color: white;}#sk-container-id-4 div.sk-label label {font-family: monospace;font-weight: bold;display: inline-block;line-height: 1.2em;}#sk-container-id-4 div.sk-label-container {text-align: center;}#sk-container-id-4 div.sk-container {/* jupyter's `normalize.less` sets `[hidden] { display: none; }` but bootstrap.min.css set `[hidden] { display: none !important; }` so we also need the `!important` here to be able to override the default hidden behavior on the sphinx rendered scikit-learn.org. See: https://github.com/scikit-learn/scikit-learn/issues/21755 */display: inline-block !important;position: relative;}#sk-container-id-4 div.sk-text-repr-fallback {display: none;}</style><div id=\"sk-container-id-4\" class=\"sk-top-container\"><div class=\"sk-text-repr-fallback\"><pre>LGBMClassifier()</pre><b>In a Jupyter environment, please rerun this cell to show the HTML representation or trust the notebook. <br />On GitHub, the HTML representation is unable to render, please try loading this page with nbviewer.org.</b></div><div class=\"sk-container\" hidden><div class=\"sk-item\"><div class=\"sk-estimator sk-toggleable\"><input class=\"sk-toggleable__control sk-hidden--visually\" id=\"sk-estimator-id-4\" type=\"checkbox\" checked><label for=\"sk-estimator-id-4\" class=\"sk-toggleable__label sk-toggleable__label-arrow\">LGBMClassifier</label><div class=\"sk-toggleable__content\"><pre>LGBMClassifier()</pre></div></div></div></div></div>"
      ],
      "text/plain": [
       "LGBMClassifier()"
      ]
     },
     "execution_count": 52,
     "metadata": {},
     "output_type": "execute_result"
    }
   ],
   "source": [
    "lgbm_clf.fit(X_train , y_train)"
   ]
  },
  {
   "cell_type": "code",
   "execution_count": 53,
   "id": "4f9cc648",
   "metadata": {},
   "outputs": [],
   "source": [
    "y_preds_lgbm = lgbm_clf.predict(X_test)"
   ]
  },
  {
   "cell_type": "code",
   "execution_count": 54,
   "id": "cab9a150",
   "metadata": {},
   "outputs": [
    {
     "name": "stdout",
     "output_type": "stream",
     "text": [
      "Accuracy Score of the LGBM Model 0.9801633605600933\n",
      "ROC AUC Score of the LGBM Model 0.9781811085089774\n"
     ]
    }
   ],
   "source": [
    "print(\"Accuracy Score of the LGBM Model\", accuracy_score(y_test, y_preds_lgbm))\n",
    "print(\"ROC AUC Score of the LGBM Model\", roc_auc_score(y_test, y_preds_lgbm))"
   ]
  },
  {
   "cell_type": "code",
   "execution_count": 55,
   "id": "4d172b8a",
   "metadata": {},
   "outputs": [
    {
     "data": {
      "text/plain": [
       "Text(0.5, 1.0, 'Confusion Matrix for LGBM Classifier Model')"
      ]
     },
     "execution_count": 55,
     "metadata": {},
     "output_type": "execute_result"
    },
    {
     "data": {
      "image/png": "[encoded data removed]",
      "text/plain": [
       "<Figure size 720x504 with 2 Axes>"
      ]
     },
     "metadata": {
      "needs_background": "light"
     },
     "output_type": "display_data"
    }
   ],
   "source": [
    "#Confusion Matrix of LGBM Classifier Model.\n",
    "cm = confusion_matrix(y_test, y_preds_lgbm)\n",
    "\n",
    "x_axis_labels = [\"Yes\", \"No\"]\n",
    "y_axis_labels = [\"Yes\", \"No\"]\n",
    "\n",
    "f, ax = plt.subplots(figsize =(10,7))\n",
    "sns.heatmap(cm, annot = True, linewidths=0.2, linecolor=\"black\", fmt = \".0f\", ax=ax, cmap=\"Greens\", \n",
    "            xticklabels=x_axis_labels, yticklabels=y_axis_labels)\n",
    "plt.xlabel(\"PREDICTED LABEL\")\n",
    "plt.ylabel(\"TRUE LABEL\")\n",
    "plt.title('Confusion Matrix for LGBM Classifier Model')"
   ]
  },
  {
   "cell_type": "code",
   "execution_count": 56,
   "id": "3868adf4",
   "metadata": {},
   "outputs": [
    {
     "name": "stdout",
     "output_type": "stream",
     "text": [
      "Requirement already satisfied: logmodel in c:\\users\\bista\\anaconda3\\lib\\site-packages (0.0.1)Note: you may need to restart the kernel to use updated packages.\n",
      "\n"
     ]
    }
   ],
   "source": [
    "pip install logmodel"
   ]
  },
  {
   "cell_type": "code",
   "execution_count": 57,
   "id": "21e833bd",
   "metadata": {},
   "outputs": [],
   "source": [
    "# importing classification_report from sklearn.metrics\n",
    "\n",
    "from sklearn.metrics import classification_report"
   ]
  },
  {
   "cell_type": "code",
   "execution_count": 58,
   "id": "9ba6b6dc",
   "metadata": {},
   "outputs": [
    {
     "name": "stdout",
     "output_type": "stream",
     "text": [
      "Model Classification Report:\n",
      "              precision    recall  f1-score   support\n",
      "\n",
      "           0       0.89      0.98      0.93       244\n",
      "           1       1.00      0.98      0.99      1470\n",
      "\n",
      "    accuracy                           0.98      1714\n",
      "   macro avg       0.95      0.98      0.96      1714\n",
      "weighted avg       0.98      0.98      0.98      1714\n",
      "\n"
     ]
    }
   ],
   "source": [
    "# classification report based on LGBMClassifier result \n",
    "\n",
    "print(\"Model Classification Report:\")\n",
    "\n",
    "print(classification_report(y_test,y_preds_lgbm))"
   ]
  },
  {
   "cell_type": "code",
   "execution_count": 59,
   "id": "5d0c0c58",
   "metadata": {},
   "outputs": [
    {
     "name": "stdout",
     "output_type": "stream",
     "text": [
      "Model Classification Report:\n",
      "              precision    recall  f1-score   support\n",
      "\n",
      "           0       0.90      0.98      0.94       244\n",
      "           1       1.00      0.98      0.99      1470\n",
      "\n",
      "    accuracy                           0.98      1714\n",
      "   macro avg       0.95      0.98      0.96      1714\n",
      "weighted avg       0.98      0.98      0.98      1714\n",
      "\n"
     ]
    }
   ],
   "source": [
    "# classification report based on AdaBoost Classifier result\n",
    "\n",
    "print(\"Model Classification Report:\")\n",
    "\n",
    "print(classification_report(y_test,y_preds_ada))"
   ]
  },
  {
   "cell_type": "code",
   "execution_count": 60,
   "id": "4ff62be0",
   "metadata": {},
   "outputs": [
    {
     "name": "stdout",
     "output_type": "stream",
     "text": [
      "Model Classification Report:\n",
      "              precision    recall  f1-score   support\n",
      "\n",
      "           0       0.90      0.97      0.93       244\n",
      "           1       0.99      0.98      0.99      1470\n",
      "\n",
      "    accuracy                           0.98      1714\n",
      "   macro avg       0.95      0.97      0.96      1714\n",
      "weighted avg       0.98      0.98      0.98      1714\n",
      "\n"
     ]
    }
   ],
   "source": [
    "# classification report based on Bagging Classifier result\n",
    "\n",
    "print(\"Model Classification Report:\")\n",
    "\n",
    "print(classification_report(y_test,y_preds_bg))"
   ]
  },
  {
   "cell_type": "code",
   "execution_count": 61,
   "id": "1c7439b3",
   "metadata": {},
   "outputs": [
    {
     "name": "stdout",
     "output_type": "stream",
     "text": [
      "Model Classification Report:\n",
      "              precision    recall  f1-score   support\n",
      "\n",
      "           0       0.89      0.98      0.93       244\n",
      "           1       1.00      0.98      0.99      1470\n",
      "\n",
      "    accuracy                           0.98      1714\n",
      "   macro avg       0.95      0.98      0.96      1714\n",
      "weighted avg       0.98      0.98      0.98      1714\n",
      "\n"
     ]
    }
   ],
   "source": [
    "# classification report based on Extra Tree Classifier result\n",
    "\n",
    "print(\"Model Classification Report:\")\n",
    "\n",
    "print(classification_report(y_test,y_preds_et))"
   ]
  },
  {
   "cell_type": "code",
   "execution_count": 62,
   "id": "5e2f696e",
   "metadata": {},
   "outputs": [
    {
     "name": "stdout",
     "output_type": "stream",
     "text": [
      "Model Classification Report:\n",
      "              precision    recall  f1-score   support\n",
      "\n",
      "           0       0.90      0.98      0.94       244\n",
      "           1       1.00      0.98      0.99      1470\n",
      "\n",
      "    accuracy                           0.98      1714\n",
      "   macro avg       0.95      0.98      0.96      1714\n",
      "weighted avg       0.98      0.98      0.98      1714\n",
      "\n"
     ]
    }
   ],
   "source": [
    "# classification report based on Random Forest Classifier result\n",
    "\n",
    "print(\"Model Classification Report:\")\n",
    "\n",
    "print(classification_report(y_test,y_preds_rf))"
   ]
  },
  {
   "cell_type": "code",
   "execution_count": 63,
   "id": "2a4ee8d2",
   "metadata": {},
   "outputs": [
    {
     "name": "stdout",
     "output_type": "stream",
     "text": [
      "Model Classification Report:\n",
      "              precision    recall  f1-score   support\n",
      "\n",
      "           0       0.90      0.98      0.94       244\n",
      "           1       1.00      0.98      0.99      1470\n",
      "\n",
      "    accuracy                           0.98      1714\n",
      "   macro avg       0.95      0.98      0.96      1714\n",
      "weighted avg       0.98      0.98      0.98      1714\n",
      "\n"
     ]
    }
   ],
   "source": [
    "# classification report based on Decision Tree Classifier result\n",
    "\n",
    "print(\"Model Classification Report:\")\n",
    "\n",
    "print(classification_report(y_test,y_preds_dt))"
   ]
  },
  {
   "cell_type": "markdown",
   "id": "cc50dd39",
   "metadata": {},
   "source": [
    "## PREDICTED VALUES - RANDOM FOREST CLASSIFIER "
   ]
  },
  {
   "cell_type": "markdown",
   "id": "c8d42305",
   "metadata": {},
   "source": [
    "## Dump model to pickle file"
   ]
  },
  {
   "cell_type": "code",
   "execution_count": 66,
   "id": "0b7a53db",
   "metadata": {},
   "outputs": [
    {
     "data": {
      "text/plain": [
       "array(['1', '1', '1', ..., '0', '1', '1'], dtype=object)"
      ]
     },
     "execution_count": 66,
     "metadata": {},
     "output_type": "execute_result"
    }
   ],
   "source": [
    "rf_clf.predict(X_test)"
   ]
  },
  {
   "cell_type": "code",
   "execution_count": 67,
   "id": "ff985987",
   "metadata": {},
   "outputs": [],
   "source": [
    "pkl_out = open(\"train_classifier\",\"wb\")\n",
    "pkl.dump(rf_clf,pkl_out)"
   ]
  },
  {
   "cell_type": "code",
   "execution_count": null,
   "id": "19188fbb",
   "metadata": {},
   "outputs": [],
   "source": []
  },
  {
   "cell_type": "code",
   "execution_count": null,
   "id": "4cae7424",
   "metadata": {},
   "outputs": [],
   "source": []
  }
 ],
 "metadata": {
  "kernelspec": {
   "display_name": "Python 3 (ipykernel)",
   "language": "python",
   "name": "python3"
  },
  "language_info": {
   "codemirror_mode": {
    "name": "ipython",
    "version": 3
   },
   "file_extension": ".py",
   "mimetype": "text/x-python",
   "name": "python",
   "nbconvert_exporter": "python",
   "pygments_lexer": "ipython3",
   "version": "3.9.12"
  }
 },
 "nbformat": 4,
 "nbformat_minor": 5
}
